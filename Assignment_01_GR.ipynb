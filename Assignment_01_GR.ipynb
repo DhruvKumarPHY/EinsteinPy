{
 "cells": [
  {
   "cell_type": "code",
   "execution_count": 11,
   "id": "8ae93d79",
   "metadata": {},
   "outputs": [
    {
     "name": "stdout",
     "output_type": "stream",
     "text": [
      "Hello General Relativity\n"
     ]
    }
   ],
   "source": [
    "print(\"Hello General Relativity\")"
   ]
  },
  {
   "cell_type": "markdown",
   "id": "44c07ea6-b23b-4dee-959c-51471b1892b3",
   "metadata": {},
   "source": [
    "# Equations--\n",
    "1) $ds^{2}$ = $-dt^{2}$ + $dR^{2}$ + $R^{2} sin^{2}(\\theta)  d\\theta^{2}$ + $R^{2} d\\phi^{2}$"
   ]
  },
  {
   "cell_type": "markdown",
   "id": "15cbf274-7b2c-49ca-a39a-798ea500655d",
   "metadata": {},
   "source": [
    "2) $ds^{2}$ = $-dt^{2}$ + $a(t)^{2}dr^{2}$ + $a(t)^{2} r^{2} sin^{2}(\\theta)  d\\theta^{2}$ + $a(t)^{2} r^{2} d\\phi^{2}$"
   ]
  },
  {
   "cell_type": "markdown",
   "id": "c6061b57",
   "metadata": {},
   "source": [
    "### Here in the assignment I am given with two metric tensor for which i have to calculate all the other tensors:   \n",
    "__1} MetricTensor ($g_{\\mu\\nu}$)   \n",
    "2} Christoffel Symbols ($\\Gamma^{\\lambda}_{\\mu\\nu}$)      \n",
    "3} Riemann Curvature Tensor ($R^{\\lambda}_{\\mu\\nu\\gamma}$)    \n",
    "4} Ricci Tensor ($R_{\\mu\\nu}$)  \n",
    "5} Ricci Scalar ($R$)   \n",
    "6} Einstein Tensor ($G_{\\mu\\nu}$)__  \n",
    "__7} Stress Energy Momentum Tensor ($T_{\\mu\\nu}$)__"
   ]
  },
  {
   "cell_type": "code",
   "execution_count": 12,
   "id": "3c354a73",
   "metadata": {},
   "outputs": [],
   "source": [
    "import einsteinpy as ep\n",
    "import sympy as smp\n",
    "smp.init_printing()  # enables the best printing available in an environment"
   ]
  },
  {
   "cell_type": "code",
   "execution_count": 13,
   "id": "9420873c",
   "metadata": {},
   "outputs": [],
   "source": [
    "from einsteinpy.symbolic.constants import G"
   ]
  },
  {
   "cell_type": "code",
   "execution_count": 14,
   "id": "481e4eab",
   "metadata": {},
   "outputs": [
    {
     "data": {
      "image/png": "[encoded data removed]",
      "text/latex": [
       "$\\displaystyle G$"
      ],
      "text/plain": [
       "G"
      ]
     },
     "execution_count": 14,
     "metadata": {},
     "output_type": "execute_result"
    }
   ],
   "source": [
    "G"
   ]
  },
  {
   "cell_type": "code",
   "execution_count": 15,
   "id": "bd2a691d",
   "metadata": {},
   "outputs": [
    {
     "name": "stdout",
     "output_type": "stream",
     "text": [
      "Object `einsteinpy.symbolic.constants` not found.\n"
     ]
    }
   ],
   "source": [
    " einsteinpy.symbolic.constants?"
   ]
  },
  {
   "cell_type": "code",
   "execution_count": 16,
   "id": "cc373e8e",
   "metadata": {},
   "outputs": [],
   "source": [
    "from einsteinpy.symbolic.constants import Cosmo_Const"
   ]
  },
  {
   "cell_type": "code",
   "execution_count": 17,
   "id": "00a17a74",
   "metadata": {},
   "outputs": [
    {
     "data": {
      "image/png": "[encoded data removed]",
      "text/latex": [
       "$\\displaystyle \\Lambda$"
      ],
      "text/plain": [
       "Λ"
      ]
     },
     "execution_count": 17,
     "metadata": {},
     "output_type": "execute_result"
    }
   ],
   "source": [
    "Cosmo_Const"
   ]
  },
  {
   "cell_type": "code",
   "execution_count": 18,
   "id": "bb27fbd1",
   "metadata": {},
   "outputs": [],
   "source": [
    "from einsteinpy.symbolic import MetricTensor, ChristoffelSymbols,\\\n",
    "RiemannCurvatureTensor,EinsteinTensor,RicciScalar,RicciTensor,StressEnergyMomentumTensor"
   ]
  },
  {
   "cell_type": "markdown",
   "id": "99010f7f",
   "metadata": {},
   "source": [
    "# Metric Tensor ($g_{\\mu\\nu}$)"
   ]
  },
  {
   "cell_type": "markdown",
   "id": "5197e4de",
   "metadata": {},
   "source": [
    "# 3x3 Tensor"
   ]
  },
  {
   "cell_type": "code",
   "execution_count": 19,
   "id": "5d8f533b",
   "metadata": {},
   "outputs": [
    {
     "data": {
      "text/latex": [
       "$\\displaystyle \\left[\\begin{matrix}1 & 0 & 0\\\\0 & R^{2} \\sin^{2}{\\left(\\theta \\right)} & 0\\\\0 & 0 & R^{2}\\end{matrix}\\right]$"
      ],
      "text/plain": [
       "⎡1      0       0 ⎤\n",
       "⎢                 ⎥\n",
       "⎢    2    2       ⎥\n",
       "⎢0  R ⋅sin (θ)  0 ⎥\n",
       "⎢                 ⎥\n",
       "⎢                2⎥\n",
       "⎣0      0       R ⎦"
      ]
     },
     "execution_count": 19,
     "metadata": {},
     "output_type": "execute_result"
    }
   ],
   "source": [
    "# Defining the metric tensor for 3d spherical coordinates\n",
    "syms = smp.symbols('R theta phi')\n",
    "# define the metric for 3d spherical coordinates\n",
    "metric = [[0 for i in range(3)] for i in range(3)]\n",
    "metric[0][0] = 1                                         # g_00\n",
    "metric[1][1] = (syms[0]**2)*(smp.sin(syms[1])**2)        # g_11\n",
    "metric[2][2] = syms[0]**2                                # g_22\n",
    "# creating metric object\n",
    "metric_13 = MetricTensor(metric, syms)\n",
    "metric_13.tensor()"
   ]
  },
  {
   "cell_type": "code",
   "execution_count": 20,
   "id": "755607b8-46be-46fb-a323-d60667fe2ff4",
   "metadata": {},
   "outputs": [
    {
     "data": {
      "text/latex": [
       "$\\displaystyle g_{00} = 1$"
      ],
      "text/plain": [
       "<IPython.core.display.Math object>"
      ]
     },
     "metadata": {},
     "output_type": "display_data"
    },
    {
     "data": {
      "text/latex": [
       "$\\displaystyle g_{11} = R^{2} \\sin^{2}{\\left(\\theta \\right)}$"
      ],
      "text/plain": [
       "<IPython.core.display.Math object>"
      ]
     },
     "metadata": {},
     "output_type": "display_data"
    },
    {
     "data": {
      "text/latex": [
       "$\\displaystyle g_{22} = R^{2}$"
      ],
      "text/plain": [
       "<IPython.core.display.Math object>"
      ]
     },
     "metadata": {},
     "output_type": "display_data"
    }
   ],
   "source": [
    "from itertools import product\n",
    "from IPython.display import display, Math\n",
    "from sympy import symbols, latex, lambdify, Matrix\n",
    "for  j, k in product(range(3), range(3)):\n",
    "    if metric_13[j, k] != 0:\n",
    "        display(Math(f'g_{{{j}{k}}} = ' + latex(metric_13[j, k])))"
   ]
  },
  {
   "cell_type": "markdown",
   "id": "3378e5cf",
   "metadata": {},
   "source": [
    "# Christoffel Symbols ( $\\Gamma^{\\lambda}_{\\mu\\nu}$ )"
   ]
  },
  {
   "cell_type": "code",
   "execution_count": 21,
   "id": "08a6db8a",
   "metadata": {},
   "outputs": [
    {
     "data": {
      "text/latex": [
       "$\\displaystyle \\left[\\begin{matrix}\\left[\\begin{matrix}0 & 0 & 0\\\\0 & - R \\sin^{2}{\\left(\\theta \\right)} & 0\\\\0 & 0 & - R\\end{matrix}\\right] & \\left[\\begin{matrix}0 & \\frac{1}{R} & 0\\\\\\frac{1}{R} & \\frac{\\cos{\\left(\\theta \\right)}}{\\sin{\\left(\\theta \\right)}} & 0\\\\0 & 0 & 0\\end{matrix}\\right] & \\left[\\begin{matrix}0 & 0 & \\frac{1}{R}\\\\0 & 0 & 0\\\\\\frac{1}{R} & 0 & 0\\end{matrix}\\right]\\end{matrix}\\right]$"
      ],
      "text/plain": [
       "⎡                     ⎡     1      ⎤  ⎡      1⎤⎤\n",
       "⎢⎡0      0       0 ⎤  ⎢0    ─     0⎥  ⎢0  0  ─⎥⎥\n",
       "⎢⎢                 ⎥  ⎢     R      ⎥  ⎢      R⎥⎥\n",
       "⎢⎢         2       ⎥  ⎢            ⎥  ⎢       ⎥⎥\n",
       "⎢⎢0  -R⋅sin (θ)  0 ⎥  ⎢1  cos(θ)   ⎥  ⎢0  0  0⎥⎥\n",
       "⎢⎢                 ⎥  ⎢─  ──────  0⎥  ⎢       ⎥⎥\n",
       "⎢⎣0      0       -R⎦  ⎢R  sin(θ)   ⎥  ⎢1      ⎥⎥\n",
       "⎢                     ⎢            ⎥  ⎢─  0  0⎥⎥\n",
       "⎣                     ⎣0    0     0⎦  ⎣R      ⎦⎦"
      ]
     },
     "execution_count": 21,
     "metadata": {},
     "output_type": "execute_result"
    }
   ],
   "source": [
    "ch_13 = ChristoffelSymbols.from_metric(metric_13)    # Gamma - Christoffel Symbols\n",
    "ch_13.tensor()"
   ]
  },
  {
   "cell_type": "code",
   "execution_count": 22,
   "id": "687f60f2-862d-44d0-92d3-5ba3c538b4ed",
   "metadata": {},
   "outputs": [
    {
     "data": {
      "text/latex": [
       "$\\displaystyle \\Gamma^0_{11} = - R \\sin^{2}{\\left(\\theta \\right)}$"
      ],
      "text/plain": [
       "<IPython.core.display.Math object>"
      ]
     },
     "metadata": {},
     "output_type": "display_data"
    },
    {
     "data": {
      "text/latex": [
       "$\\displaystyle \\Gamma^0_{22} = - R$"
      ],
      "text/plain": [
       "<IPython.core.display.Math object>"
      ]
     },
     "metadata": {},
     "output_type": "display_data"
    },
    {
     "data": {
      "text/latex": [
       "$\\displaystyle \\Gamma^1_{01} = \\frac{1}{R}$"
      ],
      "text/plain": [
       "<IPython.core.display.Math object>"
      ]
     },
     "metadata": {},
     "output_type": "display_data"
    },
    {
     "data": {
      "text/latex": [
       "$\\displaystyle \\Gamma^1_{10} = \\frac{1}{R}$"
      ],
      "text/plain": [
       "<IPython.core.display.Math object>"
      ]
     },
     "metadata": {},
     "output_type": "display_data"
    },
    {
     "data": {
      "text/latex": [
       "$\\displaystyle \\Gamma^1_{11} = \\frac{\\cos{\\left(\\theta \\right)}}{\\sin{\\left(\\theta \\right)}}$"
      ],
      "text/plain": [
       "<IPython.core.display.Math object>"
      ]
     },
     "metadata": {},
     "output_type": "display_data"
    },
    {
     "data": {
      "text/latex": [
       "$\\displaystyle \\Gamma^2_{02} = \\frac{1}{R}$"
      ],
      "text/plain": [
       "<IPython.core.display.Math object>"
      ]
     },
     "metadata": {},
     "output_type": "display_data"
    },
    {
     "data": {
      "text/latex": [
       "$\\displaystyle \\Gamma^2_{20} = \\frac{1}{R}$"
      ],
      "text/plain": [
       "<IPython.core.display.Math object>"
      ]
     },
     "metadata": {},
     "output_type": "display_data"
    }
   ],
   "source": [
    "for i, j, k in product(range(3), range(3), range(3)):\n",
    "    if ch_13[i, j, k] != 0:\n",
    "        display(Math(f'\\Gamma^{i}_{{{j}{k}}} = ' + latex(ch_13[i, j, k])))"
   ]
  },
  {
   "cell_type": "code",
   "execution_count": 23,
   "id": "8657382f",
   "metadata": {},
   "outputs": [
    {
     "data": {
      "image/png": "[encoded data removed]",
      "text/latex": [
       "$\\displaystyle 0$"
      ],
      "text/plain": [
       "0"
      ]
     },
     "execution_count": 23,
     "metadata": {},
     "output_type": "execute_result"
    }
   ],
   "source": [
    "ch_13.tensor()[1,2,2]   # we can access the individual as shown"
   ]
  },
  {
   "cell_type": "markdown",
   "id": "2277428e",
   "metadata": {},
   "source": [
    "# Riemann Tensor ($R^{\\lambda}_{\\mu\\nu\\gamma}$)"
   ]
  },
  {
   "cell_type": "code",
   "execution_count": 24,
   "id": "2d8e11dd",
   "metadata": {},
   "outputs": [
    {
     "data": {
      "text/latex": [
       "$\\displaystyle \\left[\\begin{matrix}\\left[\\begin{matrix}0 & 0 & 0\\\\0 & 0 & 0\\\\0 & 0 & 0\\end{matrix}\\right] & \\left[\\begin{matrix}0 & 0 & 0\\\\0 & 0 & 0\\\\0 & 0 & 0\\end{matrix}\\right] & \\left[\\begin{matrix}0 & 0 & 0\\\\0 & 0 & 0\\\\0 & 0 & 0\\end{matrix}\\right]\\\\\\left[\\begin{matrix}0 & 0 & 0\\\\0 & 0 & 0\\\\0 & 0 & 0\\end{matrix}\\right] & \\left[\\begin{matrix}0 & 0 & 0\\\\0 & 0 & 0\\\\0 & 0 & 0\\end{matrix}\\right] & \\left[\\begin{matrix}0 & 0 & 0\\\\0 & 0 & -1\\\\0 & 1 & 0\\end{matrix}\\right]\\\\\\left[\\begin{matrix}0 & 0 & 0\\\\0 & 0 & 0\\\\0 & 0 & 0\\end{matrix}\\right] & \\left[\\begin{matrix}0 & 0 & 0\\\\0 & 0 & \\sin^{2}{\\left(\\theta \\right)}\\\\0 & - \\sin^{2}{\\left(\\theta \\right)} & 0\\end{matrix}\\right] & \\left[\\begin{matrix}0 & 0 & 0\\\\0 & 0 & 0\\\\0 & 0 & 0\\end{matrix}\\right]\\end{matrix}\\right]$"
      ],
      "text/plain": [
       "⎡⎡0  0  0⎤        ⎡0  0  0⎤         ⎡0  0  0⎤ ⎤\n",
       "⎢⎢       ⎥        ⎢       ⎥         ⎢       ⎥ ⎥\n",
       "⎢⎢0  0  0⎥        ⎢0  0  0⎥         ⎢0  0  0⎥ ⎥\n",
       "⎢⎢       ⎥        ⎢       ⎥         ⎢       ⎥ ⎥\n",
       "⎢⎣0  0  0⎦        ⎣0  0  0⎦         ⎣0  0  0⎦ ⎥\n",
       "⎢                                             ⎥\n",
       "⎢⎡0  0  0⎤        ⎡0  0  0⎤         ⎡0  0  0 ⎤⎥\n",
       "⎢⎢       ⎥        ⎢       ⎥         ⎢        ⎥⎥\n",
       "⎢⎢0  0  0⎥        ⎢0  0  0⎥         ⎢0  0  -1⎥⎥\n",
       "⎢⎢       ⎥        ⎢       ⎥         ⎢        ⎥⎥\n",
       "⎢⎣0  0  0⎦        ⎣0  0  0⎦         ⎣0  1  0 ⎦⎥\n",
       "⎢                                             ⎥\n",
       "⎢           ⎡0     0         0   ⎤            ⎥\n",
       "⎢⎡0  0  0⎤  ⎢                    ⎥  ⎡0  0  0⎤ ⎥\n",
       "⎢⎢       ⎥  ⎢                2   ⎥  ⎢       ⎥ ⎥\n",
       "⎢⎢0  0  0⎥  ⎢0     0      sin (θ)⎥  ⎢0  0  0⎥ ⎥\n",
       "⎢⎢       ⎥  ⎢                    ⎥  ⎢       ⎥ ⎥\n",
       "⎢⎣0  0  0⎦  ⎢       2            ⎥  ⎣0  0  0⎦ ⎥\n",
       "⎣           ⎣0  -sin (θ)     0   ⎦            ⎦"
      ]
     },
     "execution_count": 24,
     "metadata": {},
     "output_type": "execute_result"
    }
   ],
   "source": [
    "# Calculating Riemann Tensor from Christoffel Symbols\n",
    "rm_13 = RiemannCurvatureTensor.from_christoffels(ch_13)\n",
    "rm_13.tensor()"
   ]
  },
  {
   "cell_type": "code",
   "execution_count": 25,
   "id": "bcf63816-d358-453d-a9aa-b3dfda0cb5ab",
   "metadata": {},
   "outputs": [
    {
     "data": {
      "text/latex": [
       "$\\displaystyle R^1_{212} = -1$"
      ],
      "text/plain": [
       "<IPython.core.display.Math object>"
      ]
     },
     "metadata": {},
     "output_type": "display_data"
    },
    {
     "data": {
      "text/latex": [
       "$\\displaystyle R^1_{221} = 1$"
      ],
      "text/plain": [
       "<IPython.core.display.Math object>"
      ]
     },
     "metadata": {},
     "output_type": "display_data"
    },
    {
     "data": {
      "text/latex": [
       "$\\displaystyle R^2_{112} = \\sin^{2}{\\left(\\theta \\right)}$"
      ],
      "text/plain": [
       "<IPython.core.display.Math object>"
      ]
     },
     "metadata": {},
     "output_type": "display_data"
    },
    {
     "data": {
      "text/latex": [
       "$\\displaystyle R^2_{121} = - \\sin^{2}{\\left(\\theta \\right)}$"
      ],
      "text/plain": [
       "<IPython.core.display.Math object>"
      ]
     },
     "metadata": {},
     "output_type": "display_data"
    }
   ],
   "source": [
    "for i, j, k, p in product(range(3), range(3), range(3),range(3)):\n",
    "    if rm_13[i, j, k, p] != 0:\n",
    "        display(Math(f'R^{i}_{{{j}{k}{p}}} = ' + latex(rm_13[i, j, k,p])))"
   ]
  },
  {
   "cell_type": "code",
   "execution_count": 26,
   "id": "50c445ee",
   "metadata": {},
   "outputs": [
    {
     "data": {
      "text/latex": [
       "$\\displaystyle \\left[\\begin{matrix}\\left[\\begin{matrix}0 & 0 & 0\\\\0 & 0 & 0\\\\0 & 0 & 0\\end{matrix}\\right] & \\left[\\begin{matrix}0 & 0 & 0\\\\0 & 0 & 0\\\\0 & 0 & 0\\end{matrix}\\right] & \\left[\\begin{matrix}0 & 0 & 0\\\\0 & 0 & 0\\\\0 & 0 & 0\\end{matrix}\\right]\\\\\\left[\\begin{matrix}0 & 0 & 0\\\\0 & 0 & 0\\\\0 & 0 & 0\\end{matrix}\\right] & \\left[\\begin{matrix}0 & 0 & 0\\\\0 & 0 & 0\\\\0 & 0 & 0\\end{matrix}\\right] & \\left[\\begin{matrix}0 & 0 & 0\\\\0 & 0 & -1\\\\0 & 1 & 0\\end{matrix}\\right]\\\\\\left[\\begin{matrix}0 & 0 & 0\\\\0 & 0 & 0\\\\0 & 0 & 0\\end{matrix}\\right] & \\left[\\begin{matrix}0 & 0 & 0\\\\0 & 0 & \\sin^{2}{\\left(\\theta \\right)}\\\\0 & - \\sin^{2}{\\left(\\theta \\right)} & 0\\end{matrix}\\right] & \\left[\\begin{matrix}0 & 0 & 0\\\\0 & 0 & 0\\\\0 & 0 & 0\\end{matrix}\\right]\\end{matrix}\\right]$"
      ],
      "text/plain": [
       "⎡⎡0  0  0⎤        ⎡0  0  0⎤         ⎡0  0  0⎤ ⎤\n",
       "⎢⎢       ⎥        ⎢       ⎥         ⎢       ⎥ ⎥\n",
       "⎢⎢0  0  0⎥        ⎢0  0  0⎥         ⎢0  0  0⎥ ⎥\n",
       "⎢⎢       ⎥        ⎢       ⎥         ⎢       ⎥ ⎥\n",
       "⎢⎣0  0  0⎦        ⎣0  0  0⎦         ⎣0  0  0⎦ ⎥\n",
       "⎢                                             ⎥\n",
       "⎢⎡0  0  0⎤        ⎡0  0  0⎤         ⎡0  0  0 ⎤⎥\n",
       "⎢⎢       ⎥        ⎢       ⎥         ⎢        ⎥⎥\n",
       "⎢⎢0  0  0⎥        ⎢0  0  0⎥         ⎢0  0  -1⎥⎥\n",
       "⎢⎢       ⎥        ⎢       ⎥         ⎢        ⎥⎥\n",
       "⎢⎣0  0  0⎦        ⎣0  0  0⎦         ⎣0  1  0 ⎦⎥\n",
       "⎢                                             ⎥\n",
       "⎢           ⎡0     0         0   ⎤            ⎥\n",
       "⎢⎡0  0  0⎤  ⎢                    ⎥  ⎡0  0  0⎤ ⎥\n",
       "⎢⎢       ⎥  ⎢                2   ⎥  ⎢       ⎥ ⎥\n",
       "⎢⎢0  0  0⎥  ⎢0     0      sin (θ)⎥  ⎢0  0  0⎥ ⎥\n",
       "⎢⎢       ⎥  ⎢                    ⎥  ⎢       ⎥ ⎥\n",
       "⎢⎣0  0  0⎦  ⎢       2            ⎥  ⎣0  0  0⎦ ⎥\n",
       "⎣           ⎣0  -sin (θ)     0   ⎦            ⎦"
      ]
     },
     "execution_count": 26,
     "metadata": {},
     "output_type": "execute_result"
    }
   ],
   "source": [
    "# 2nd method, Calculating Riemann Tensor from Metric Tensor\n",
    "rm_13 = RiemannCurvatureTensor.from_metric(metric_13)\n",
    "rm_13.tensor()"
   ]
  },
  {
   "cell_type": "markdown",
   "id": "2c7a7333",
   "metadata": {},
   "source": [
    "# Ricci Tensor ($R_{\\mu\\nu}$)  "
   ]
  },
  {
   "cell_type": "code",
   "execution_count": 27,
   "id": "34261881",
   "metadata": {},
   "outputs": [
    {
     "data": {
      "text/latex": [
       "$\\displaystyle \\left[\\begin{matrix}0 & 0 & 0\\\\0 & - \\sin^{2}{\\left(\\theta \\right)} & 0\\\\0 & 0 & -1\\end{matrix}\\right]$"
      ],
      "text/plain": [
       "⎡0     0      0 ⎤\n",
       "⎢               ⎥\n",
       "⎢       2       ⎥\n",
       "⎢0  -sin (θ)  0 ⎥\n",
       "⎢               ⎥\n",
       "⎣0     0      -1⎦"
      ]
     },
     "execution_count": 27,
     "metadata": {},
     "output_type": "execute_result"
    }
   ],
   "source": [
    "R_tensor_13 = RicciTensor.from_metric(metric_13)\n",
    "R_tensor_13.tensor()"
   ]
  },
  {
   "cell_type": "code",
   "execution_count": 28,
   "id": "b84daef8-cc6e-4ba4-a54c-7a44cc0ad5cc",
   "metadata": {},
   "outputs": [
    {
     "data": {
      "text/latex": [
       "$\\displaystyle R_{11} = - \\sin^{2}{\\left(\\theta \\right)}$"
      ],
      "text/plain": [
       "<IPython.core.display.Math object>"
      ]
     },
     "metadata": {},
     "output_type": "display_data"
    },
    {
     "data": {
      "text/latex": [
       "$\\displaystyle R_{22} = -1$"
      ],
      "text/plain": [
       "<IPython.core.display.Math object>"
      ]
     },
     "metadata": {},
     "output_type": "display_data"
    }
   ],
   "source": [
    "for i, j in product(range(3), range(3)):\n",
    "    if R_tensor_13[i, j] != 0:\n",
    "        display(Math(f'R_{{{i}{j}}} = ' + latex(R_tensor_13[i, j])))"
   ]
  },
  {
   "cell_type": "markdown",
   "id": "c263d919",
   "metadata": {},
   "source": [
    "# Ricci Scalar ($R$)"
   ]
  },
  {
   "cell_type": "code",
   "execution_count": 29,
   "id": "8df0d81e",
   "metadata": {},
   "outputs": [
    {
     "data": {
      "image/png": "[encoded data removed]",
      "text/latex": [
       "$\\displaystyle - \\frac{2}{R^{2}}$"
      ],
      "text/plain": [
       "-2 \n",
       "───\n",
       "  2\n",
       " R "
      ]
     },
     "execution_count": 29,
     "metadata": {},
     "output_type": "execute_result"
    }
   ],
   "source": [
    "R_scalar_13 = RicciScalar.from_metric(metric_13)\n",
    "R_scalar_13.simplify()\n",
    "R_scalar_13.expr"
   ]
  },
  {
   "cell_type": "markdown",
   "id": "444ae515",
   "metadata": {},
   "source": [
    "# EinsteinTensor ($G_{\\mu\\nu}$)"
   ]
  },
  {
   "cell_type": "code",
   "execution_count": 30,
   "id": "5b163376",
   "metadata": {},
   "outputs": [
    {
     "data": {
      "text/latex": [
       "$\\displaystyle \\left[\\begin{matrix}\\frac{1.0}{R^{2}} & 0 & 0\\\\0 & 0 & 0\\\\0 & 0 & 0\\end{matrix}\\right]$"
      ],
      "text/plain": [
       "⎡1.0      ⎤\n",
       "⎢───  0  0⎥\n",
       "⎢  2      ⎥\n",
       "⎢ R       ⎥\n",
       "⎢         ⎥\n",
       "⎢ 0   0  0⎥\n",
       "⎢         ⎥\n",
       "⎣ 0   0  0⎦"
      ]
     },
     "execution_count": 30,
     "metadata": {},
     "output_type": "execute_result"
    }
   ],
   "source": [
    "einst_13 = EinsteinTensor.from_metric(metric_13) \n",
    "einst_13.tensor()"
   ]
  },
  {
   "cell_type": "code",
   "execution_count": 31,
   "id": "db6fb15a-a2b5-45de-bcbc-4cf934844705",
   "metadata": {},
   "outputs": [
    {
     "data": {
      "text/latex": [
       "$\\displaystyle G_{00} = \\frac{1.0}{R^{2}}$"
      ],
      "text/plain": [
       "<IPython.core.display.Math object>"
      ]
     },
     "metadata": {},
     "output_type": "display_data"
    }
   ],
   "source": [
    "for i, j in product(range(3), range(3)):\n",
    "    if einst_13[i, j] != 0:\n",
    "        display(Math(f'G_{{{i}{j}}} = ' + latex(einst_13[i, j])))"
   ]
  },
  {
   "cell_type": "markdown",
   "id": "42be7b83",
   "metadata": {},
   "source": [
    "# Stress Energy Momentum Tensor ($T_{\\mu\\nu}$)"
   ]
  },
  {
   "cell_type": "code",
   "execution_count": 32,
   "id": "585345a2",
   "metadata": {},
   "outputs": [
    {
     "data": {
      "text/latex": [
       "$\\displaystyle \\left[\\begin{matrix}\\frac{0.0397887357729738 c^{4} \\left(- \\Lambda + \\frac{1.0}{R^{2}}\\right)}{G} & 0 & 0\\\\0 & - \\frac{0.0397887357729738 R^{2} \\Lambda c^{4} \\sin^{2}{\\left(\\theta \\right)}}{G} & 0\\\\0 & 0 & - \\frac{0.0397887357729738 R^{2} \\Lambda c^{4}}{G}\\end{matrix}\\right]$"
      ],
      "text/plain": [
       "⎡                    4 ⎛     1.0⎞                                             \n",
       "⎢0.0397887357729738⋅c ⋅⎜-Λ + ───⎟                                             \n",
       "⎢                      ⎜       2⎟                                             \n",
       "⎢                      ⎝      R ⎠                                             \n",
       "⎢────────────────────────────────                   0                         \n",
       "⎢               G                                                             \n",
       "⎢                                                                             \n",
       "⎢                                                       2    4    2           \n",
       "⎢                                  -0.0397887357729738⋅R ⋅Λ⋅c ⋅sin (θ)        \n",
       "⎢               0                  ────────────────────────────────────       \n",
       "⎢                                                   G                         \n",
       "⎢                                                                             \n",
       "⎢                                                                             \n",
       "⎢                                                                        -0.03\n",
       "⎢               0                                   0                    ─────\n",
       "⎣                                                                             \n",
       "\n",
       "                       ⎤\n",
       "                       ⎥\n",
       "                       ⎥\n",
       "                       ⎥\n",
       "        0              ⎥\n",
       "                       ⎥\n",
       "                       ⎥\n",
       "                       ⎥\n",
       "                       ⎥\n",
       "        0              ⎥\n",
       "                       ⎥\n",
       "                       ⎥\n",
       "                2    4 ⎥\n",
       "97887357729738⋅R ⋅Λ⋅c  ⎥\n",
       "───────────────────────⎥\n",
       "        G              ⎦"
      ]
     },
     "execution_count": 32,
     "metadata": {},
     "output_type": "execute_result"
    }
   ],
   "source": [
    "T_13 = StressEnergyMomentumTensor.from_metric(metric_13)\n",
    "T_13.tensor()"
   ]
  },
  {
   "cell_type": "code",
   "execution_count": 33,
   "id": "73a23fea-8612-4ee8-9d6e-41b9860fc654",
   "metadata": {},
   "outputs": [
    {
     "data": {
      "text/latex": [
       "$\\displaystyle T_{00} = \\frac{0.0397887357729738 c^{4} \\left(- \\Lambda + \\frac{1.0}{R^{2}}\\right)}{G}$"
      ],
      "text/plain": [
       "<IPython.core.display.Math object>"
      ]
     },
     "metadata": {},
     "output_type": "display_data"
    },
    {
     "data": {
      "text/latex": [
       "$\\displaystyle T_{11} = - \\frac{0.0397887357729738 R^{2} \\Lambda c^{4} \\sin^{2}{\\left(\\theta \\right)}}{G}$"
      ],
      "text/plain": [
       "<IPython.core.display.Math object>"
      ]
     },
     "metadata": {},
     "output_type": "display_data"
    },
    {
     "data": {
      "text/latex": [
       "$\\displaystyle T_{22} = - \\frac{0.0397887357729738 R^{2} \\Lambda c^{4}}{G}$"
      ],
      "text/plain": [
       "<IPython.core.display.Math object>"
      ]
     },
     "metadata": {},
     "output_type": "display_data"
    }
   ],
   "source": [
    "for i, j in product(range(3), range(3)):\n",
    "    if T_13[i, j] != 0:\n",
    "        display(Math(f'T_{{{i}{j}}} = ' + latex(T_13[i, j])))"
   ]
  },
  {
   "cell_type": "markdown",
   "id": "70bb637a",
   "metadata": {},
   "source": [
    "# 4x4 Tensor"
   ]
  },
  {
   "cell_type": "code",
   "execution_count": 34,
   "id": "ea8211bc-20ea-4a65-8088-b6bccbfc15a6",
   "metadata": {},
   "outputs": [
    {
     "data": {
      "text/latex": [
       "$\\displaystyle \\left[\\begin{matrix}-1 & 0 & 0 & 0\\\\0 & 1 & 0 & 0\\\\0 & 0 & R^{2} \\sin^{2}{\\left(\\theta \\right)} & 0\\\\0 & 0 & 0 & R^{2}\\end{matrix}\\right]$"
      ],
      "text/plain": [
       "⎡-1  0      0       0 ⎤\n",
       "⎢                     ⎥\n",
       "⎢0   1      0       0 ⎥\n",
       "⎢                     ⎥\n",
       "⎢        2    2       ⎥\n",
       "⎢0   0  R ⋅sin (θ)  0 ⎥\n",
       "⎢                     ⎥\n",
       "⎢                    2⎥\n",
       "⎣0   0      0       R ⎦"
      ]
     },
     "execution_count": 34,
     "metadata": {},
     "output_type": "execute_result"
    }
   ],
   "source": [
    "# Defining the metric tensor for 3d spherical coordinates\n",
    "syms = smp.symbols('t R theta phi')\n",
    "# define the metric for 3d spherical coordinates\n",
    "metric = [[0 for i in range(4)] for i in range(4)]\n",
    "metric[0][0] = -1\n",
    "metric[1][1] = 1\n",
    "metric[2][2] = (syms[1]**2)*(smp.sin(syms[2])**2)\n",
    "metric[3][3] = syms[1]**2\n",
    "# creating metric object\n",
    "metric_14 = MetricTensor(metric, syms)\n",
    "metric_14.tensor()"
   ]
  },
  {
   "cell_type": "code",
   "execution_count": 35,
   "id": "c273772f-829f-433b-8bf1-75f41b75d5b1",
   "metadata": {},
   "outputs": [
    {
     "data": {
      "text/latex": [
       "$\\displaystyle g_{00} = -1$"
      ],
      "text/plain": [
       "<IPython.core.display.Math object>"
      ]
     },
     "metadata": {},
     "output_type": "display_data"
    },
    {
     "data": {
      "text/latex": [
       "$\\displaystyle g_{11} = 1$"
      ],
      "text/plain": [
       "<IPython.core.display.Math object>"
      ]
     },
     "metadata": {},
     "output_type": "display_data"
    },
    {
     "data": {
      "text/latex": [
       "$\\displaystyle g_{22} = R^{2} \\sin^{2}{\\left(\\theta \\right)}$"
      ],
      "text/plain": [
       "<IPython.core.display.Math object>"
      ]
     },
     "metadata": {},
     "output_type": "display_data"
    },
    {
     "data": {
      "text/latex": [
       "$\\displaystyle g_{33} = R^{2}$"
      ],
      "text/plain": [
       "<IPython.core.display.Math object>"
      ]
     },
     "metadata": {},
     "output_type": "display_data"
    }
   ],
   "source": [
    "for  j, k in product(range(4), range(4)):\n",
    "    if metric_14[j, k] != 0:\n",
    "        display(Math(f'g_{{{j}{k}}} = ' + latex(metric_14[j, k])))"
   ]
  },
  {
   "cell_type": "markdown",
   "id": "6a478274",
   "metadata": {},
   "source": [
    "# Christoffel Symbols ( $\\Gamma^{\\lambda}_{\\mu\\nu}$ )"
   ]
  },
  {
   "cell_type": "code",
   "execution_count": 36,
   "id": "77e8b806-8d00-4157-a0a8-f6b102d5c573",
   "metadata": {},
   "outputs": [
    {
     "data": {
      "text/latex": [
       "$\\displaystyle \\left[\\begin{matrix}\\left[\\begin{matrix}0 & 0 & 0 & 0\\\\0 & 0 & 0 & 0\\\\0 & 0 & 0 & 0\\\\0 & 0 & 0 & 0\\end{matrix}\\right] & \\left[\\begin{matrix}0 & 0 & 0 & 0\\\\0 & 0 & 0 & 0\\\\0 & 0 & - R \\sin^{2}{\\left(\\theta \\right)} & 0\\\\0 & 0 & 0 & - R\\end{matrix}\\right] & \\left[\\begin{matrix}0 & 0 & 0 & 0\\\\0 & 0 & \\frac{1}{R} & 0\\\\0 & \\frac{1}{R} & \\frac{\\cos{\\left(\\theta \\right)}}{\\sin{\\left(\\theta \\right)}} & 0\\\\0 & 0 & 0 & 0\\end{matrix}\\right] & \\left[\\begin{matrix}0 & 0 & 0 & 0\\\\0 & 0 & 0 & \\frac{1}{R}\\\\0 & 0 & 0 & 0\\\\0 & \\frac{1}{R} & 0 & 0\\end{matrix}\\right]\\end{matrix}\\right]$"
      ],
      "text/plain": [
       "⎡                                      ⎡0  0    0     0⎤  ⎡0  0  0  0⎤⎤\n",
       "⎢              ⎡0  0      0       0 ⎤  ⎢               ⎥  ⎢          ⎥⎥\n",
       "⎢⎡0  0  0  0⎤  ⎢                    ⎥  ⎢        1      ⎥  ⎢         1⎥⎥\n",
       "⎢⎢          ⎥  ⎢0  0      0       0 ⎥  ⎢0  0    ─     0⎥  ⎢0  0  0  ─⎥⎥\n",
       "⎢⎢0  0  0  0⎥  ⎢                    ⎥  ⎢        R      ⎥  ⎢         R⎥⎥\n",
       "⎢⎢          ⎥  ⎢            2       ⎥  ⎢               ⎥  ⎢          ⎥⎥\n",
       "⎢⎢0  0  0  0⎥  ⎢0  0  -R⋅sin (θ)  0 ⎥  ⎢   1  cos(θ)   ⎥  ⎢0  0  0  0⎥⎥\n",
       "⎢⎢          ⎥  ⎢                    ⎥  ⎢0  ─  ──────  0⎥  ⎢          ⎥⎥\n",
       "⎢⎣0  0  0  0⎦  ⎣0  0      0       -R⎦  ⎢   R  sin(θ)   ⎥  ⎢   1      ⎥⎥\n",
       "⎢                                      ⎢               ⎥  ⎢0  ─  0  0⎥⎥\n",
       "⎣                                      ⎣0  0    0     0⎦  ⎣   R      ⎦⎦"
      ]
     },
     "execution_count": 36,
     "metadata": {},
     "output_type": "execute_result"
    }
   ],
   "source": [
    "ch_14 = ChristoffelSymbols.from_metric(metric_14)\n",
    "ch_14.tensor()"
   ]
  },
  {
   "cell_type": "code",
   "execution_count": 37,
   "id": "0bd234d6-a5af-42da-8420-7af36bacaf8c",
   "metadata": {},
   "outputs": [
    {
     "data": {
      "text/latex": [
       "$\\displaystyle \\Gamma^1_{2,2} = - R \\sin^{2}{\\left(\\theta \\right)}$"
      ],
      "text/plain": [
       "<IPython.core.display.Math object>"
      ]
     },
     "metadata": {},
     "output_type": "display_data"
    },
    {
     "data": {
      "text/latex": [
       "$\\displaystyle \\Gamma^1_{3,3} = - R$"
      ],
      "text/plain": [
       "<IPython.core.display.Math object>"
      ]
     },
     "metadata": {},
     "output_type": "display_data"
    },
    {
     "data": {
      "text/latex": [
       "$\\displaystyle \\Gamma^2_{1,2} = \\frac{1}{R}$"
      ],
      "text/plain": [
       "<IPython.core.display.Math object>"
      ]
     },
     "metadata": {},
     "output_type": "display_data"
    },
    {
     "data": {
      "text/latex": [
       "$\\displaystyle \\Gamma^2_{2,1} = \\frac{1}{R}$"
      ],
      "text/plain": [
       "<IPython.core.display.Math object>"
      ]
     },
     "metadata": {},
     "output_type": "display_data"
    },
    {
     "data": {
      "text/latex": [
       "$\\displaystyle \\Gamma^2_{2,2} = \\frac{\\cos{\\left(\\theta \\right)}}{\\sin{\\left(\\theta \\right)}}$"
      ],
      "text/plain": [
       "<IPython.core.display.Math object>"
      ]
     },
     "metadata": {},
     "output_type": "display_data"
    },
    {
     "data": {
      "text/latex": [
       "$\\displaystyle \\Gamma^3_{1,3} = \\frac{1}{R}$"
      ],
      "text/plain": [
       "<IPython.core.display.Math object>"
      ]
     },
     "metadata": {},
     "output_type": "display_data"
    },
    {
     "data": {
      "text/latex": [
       "$\\displaystyle \\Gamma^3_{3,1} = \\frac{1}{R}$"
      ],
      "text/plain": [
       "<IPython.core.display.Math object>"
      ]
     },
     "metadata": {},
     "output_type": "display_data"
    }
   ],
   "source": [
    "for i, j, k in product(range(4), range(4), range(4)):\n",
    "    if ch_14[i, j, k] != 0:\n",
    "        display(Math(f'\\Gamma^{i}_{{{j},{k}}} = ' + latex(ch_14[i, j, k])))"
   ]
  },
  {
   "cell_type": "markdown",
   "id": "04dc3d5b",
   "metadata": {},
   "source": [
    "# Riemann Tensor ($R^{\\lambda}_{\\mu\\nu\\gamma}$)"
   ]
  },
  {
   "cell_type": "code",
   "execution_count": 38,
   "id": "4feae1ed",
   "metadata": {},
   "outputs": [
    {
     "data": {
      "text/latex": [
       "$\\displaystyle \\left[\\begin{matrix}\\left[\\begin{matrix}0 & 0 & 0 & 0\\\\0 & 0 & 0 & 0\\\\0 & 0 & 0 & 0\\\\0 & 0 & 0 & 0\\end{matrix}\\right] & \\left[\\begin{matrix}0 & 0 & 0 & 0\\\\0 & 0 & 0 & 0\\\\0 & 0 & 0 & 0\\\\0 & 0 & 0 & 0\\end{matrix}\\right] & \\left[\\begin{matrix}0 & 0 & 0 & 0\\\\0 & 0 & 0 & 0\\\\0 & 0 & 0 & 0\\\\0 & 0 & 0 & 0\\end{matrix}\\right] & \\left[\\begin{matrix}0 & 0 & 0 & 0\\\\0 & 0 & 0 & 0\\\\0 & 0 & 0 & 0\\\\0 & 0 & 0 & 0\\end{matrix}\\right]\\\\\\left[\\begin{matrix}0 & 0 & 0 & 0\\\\0 & 0 & 0 & 0\\\\0 & 0 & 0 & 0\\\\0 & 0 & 0 & 0\\end{matrix}\\right] & \\left[\\begin{matrix}0 & 0 & 0 & 0\\\\0 & 0 & 0 & 0\\\\0 & 0 & 0 & 0\\\\0 & 0 & 0 & 0\\end{matrix}\\right] & \\left[\\begin{matrix}0 & 0 & 0 & 0\\\\0 & 0 & 0 & 0\\\\0 & 0 & 0 & 0\\\\0 & 0 & 0 & 0\\end{matrix}\\right] & \\left[\\begin{matrix}0 & 0 & 0 & 0\\\\0 & 0 & 0 & 0\\\\0 & 0 & 0 & 0\\\\0 & 0 & 0 & 0\\end{matrix}\\right]\\\\\\left[\\begin{matrix}0 & 0 & 0 & 0\\\\0 & 0 & 0 & 0\\\\0 & 0 & 0 & 0\\\\0 & 0 & 0 & 0\\end{matrix}\\right] & \\left[\\begin{matrix}0 & 0 & 0 & 0\\\\0 & 0 & 0 & 0\\\\0 & 0 & 0 & 0\\\\0 & 0 & 0 & 0\\end{matrix}\\right] & \\left[\\begin{matrix}0 & 0 & 0 & 0\\\\0 & 0 & 0 & 0\\\\0 & 0 & 0 & 0\\\\0 & 0 & 0 & 0\\end{matrix}\\right] & \\left[\\begin{matrix}0 & 0 & 0 & 0\\\\0 & 0 & 0 & 0\\\\0 & 0 & 0 & -1\\\\0 & 0 & 1 & 0\\end{matrix}\\right]\\\\\\left[\\begin{matrix}0 & 0 & 0 & 0\\\\0 & 0 & 0 & 0\\\\0 & 0 & 0 & 0\\\\0 & 0 & 0 & 0\\end{matrix}\\right] & \\left[\\begin{matrix}0 & 0 & 0 & 0\\\\0 & 0 & 0 & 0\\\\0 & 0 & 0 & 0\\\\0 & 0 & 0 & 0\\end{matrix}\\right] & \\left[\\begin{matrix}0 & 0 & 0 & 0\\\\0 & 0 & 0 & 0\\\\0 & 0 & 0 & \\sin^{2}{\\left(\\theta \\right)}\\\\0 & 0 & - \\sin^{2}{\\left(\\theta \\right)} & 0\\end{matrix}\\right] & \\left[\\begin{matrix}0 & 0 & 0 & 0\\\\0 & 0 & 0 & 0\\\\0 & 0 & 0 & 0\\\\0 & 0 & 0 & 0\\end{matrix}\\right]\\end{matrix}\\right]$"
      ],
      "text/plain": [
       "⎡⎡0  0  0  0⎤  ⎡0  0  0  0⎤        ⎡0  0  0  0⎤         ⎡0  0  0  0⎤ ⎤\n",
       "⎢⎢          ⎥  ⎢          ⎥        ⎢          ⎥         ⎢          ⎥ ⎥\n",
       "⎢⎢0  0  0  0⎥  ⎢0  0  0  0⎥        ⎢0  0  0  0⎥         ⎢0  0  0  0⎥ ⎥\n",
       "⎢⎢          ⎥  ⎢          ⎥        ⎢          ⎥         ⎢          ⎥ ⎥\n",
       "⎢⎢0  0  0  0⎥  ⎢0  0  0  0⎥        ⎢0  0  0  0⎥         ⎢0  0  0  0⎥ ⎥\n",
       "⎢⎢          ⎥  ⎢          ⎥        ⎢          ⎥         ⎢          ⎥ ⎥\n",
       "⎢⎣0  0  0  0⎦  ⎣0  0  0  0⎦        ⎣0  0  0  0⎦         ⎣0  0  0  0⎦ ⎥\n",
       "⎢                                                                    ⎥\n",
       "⎢⎡0  0  0  0⎤  ⎡0  0  0  0⎤        ⎡0  0  0  0⎤         ⎡0  0  0  0⎤ ⎥\n",
       "⎢⎢          ⎥  ⎢          ⎥        ⎢          ⎥         ⎢          ⎥ ⎥\n",
       "⎢⎢0  0  0  0⎥  ⎢0  0  0  0⎥        ⎢0  0  0  0⎥         ⎢0  0  0  0⎥ ⎥\n",
       "⎢⎢          ⎥  ⎢          ⎥        ⎢          ⎥         ⎢          ⎥ ⎥\n",
       "⎢⎢0  0  0  0⎥  ⎢0  0  0  0⎥        ⎢0  0  0  0⎥         ⎢0  0  0  0⎥ ⎥\n",
       "⎢⎢          ⎥  ⎢          ⎥        ⎢          ⎥         ⎢          ⎥ ⎥\n",
       "⎢⎣0  0  0  0⎦  ⎣0  0  0  0⎦        ⎣0  0  0  0⎦         ⎣0  0  0  0⎦ ⎥\n",
       "⎢                                                                    ⎥\n",
       "⎢⎡0  0  0  0⎤  ⎡0  0  0  0⎤        ⎡0  0  0  0⎤         ⎡0  0  0  0 ⎤⎥\n",
       "⎢⎢          ⎥  ⎢          ⎥        ⎢          ⎥         ⎢           ⎥⎥\n",
       "⎢⎢0  0  0  0⎥  ⎢0  0  0  0⎥        ⎢0  0  0  0⎥         ⎢0  0  0  0 ⎥⎥\n",
       "⎢⎢          ⎥  ⎢          ⎥        ⎢          ⎥         ⎢           ⎥⎥\n",
       "⎢⎢0  0  0  0⎥  ⎢0  0  0  0⎥        ⎢0  0  0  0⎥         ⎢0  0  0  -1⎥⎥\n",
       "⎢⎢          ⎥  ⎢          ⎥        ⎢          ⎥         ⎢           ⎥⎥\n",
       "⎢⎣0  0  0  0⎦  ⎣0  0  0  0⎦        ⎣0  0  0  0⎦         ⎣0  0  1  0 ⎦⎥\n",
       "⎢                                                                    ⎥\n",
       "⎢                            ⎡0  0     0         0   ⎤               ⎥\n",
       "⎢⎡0  0  0  0⎤  ⎡0  0  0  0⎤  ⎢                       ⎥  ⎡0  0  0  0⎤ ⎥\n",
       "⎢⎢          ⎥  ⎢          ⎥  ⎢0  0     0         0   ⎥  ⎢          ⎥ ⎥\n",
       "⎢⎢0  0  0  0⎥  ⎢0  0  0  0⎥  ⎢                       ⎥  ⎢0  0  0  0⎥ ⎥\n",
       "⎢⎢          ⎥  ⎢          ⎥  ⎢                   2   ⎥  ⎢          ⎥ ⎥\n",
       "⎢⎢0  0  0  0⎥  ⎢0  0  0  0⎥  ⎢0  0     0      sin (θ)⎥  ⎢0  0  0  0⎥ ⎥\n",
       "⎢⎢          ⎥  ⎢          ⎥  ⎢                       ⎥  ⎢          ⎥ ⎥\n",
       "⎢⎣0  0  0  0⎦  ⎣0  0  0  0⎦  ⎢          2            ⎥  ⎣0  0  0  0⎦ ⎥\n",
       "⎣                            ⎣0  0  -sin (θ)     0   ⎦               ⎦"
      ]
     },
     "execution_count": 38,
     "metadata": {},
     "output_type": "execute_result"
    }
   ],
   "source": [
    "# Calculating Riemann Tensor from Christoffel Symbols\n",
    "rm_14 = RiemannCurvatureTensor.from_metric(metric_14)\n",
    "rm_14.tensor()"
   ]
  },
  {
   "cell_type": "code",
   "execution_count": 39,
   "id": "f87c7547-9380-40f1-9e48-6414208a8629",
   "metadata": {},
   "outputs": [
    {
     "data": {
      "text/latex": [
       "$\\displaystyle R^2_{323} = -1$"
      ],
      "text/plain": [
       "<IPython.core.display.Math object>"
      ]
     },
     "metadata": {},
     "output_type": "display_data"
    },
    {
     "data": {
      "text/latex": [
       "$\\displaystyle R^2_{332} = 1$"
      ],
      "text/plain": [
       "<IPython.core.display.Math object>"
      ]
     },
     "metadata": {},
     "output_type": "display_data"
    },
    {
     "data": {
      "text/latex": [
       "$\\displaystyle R^3_{223} = \\sin^{2}{\\left(\\theta \\right)}$"
      ],
      "text/plain": [
       "<IPython.core.display.Math object>"
      ]
     },
     "metadata": {},
     "output_type": "display_data"
    },
    {
     "data": {
      "text/latex": [
       "$\\displaystyle R^3_{232} = - \\sin^{2}{\\left(\\theta \\right)}$"
      ],
      "text/plain": [
       "<IPython.core.display.Math object>"
      ]
     },
     "metadata": {},
     "output_type": "display_data"
    }
   ],
   "source": [
    "for i, j, k, p in product(range(4), range(4), range(4),range(4)):\n",
    "    if rm_14[i, j, k, p] != 0:\n",
    "        display(Math(f'R^{i}_{{{j}{k}{p}}} = ' + latex(rm_14[i, j, k,p])))"
   ]
  },
  {
   "cell_type": "markdown",
   "id": "22bc2bd6",
   "metadata": {},
   "source": [
    "# Ricci Tensor ($R_{\\mu\\nu}$)  "
   ]
  },
  {
   "cell_type": "code",
   "execution_count": 40,
   "id": "281ef487",
   "metadata": {},
   "outputs": [
    {
     "data": {
      "text/latex": [
       "$\\displaystyle \\left[\\begin{matrix}0 & 0 & 0 & 0\\\\0 & 0 & 0 & 0\\\\0 & 0 & - \\sin^{2}{\\left(\\theta \\right)} & 0\\\\0 & 0 & 0 & -1\\end{matrix}\\right]$"
      ],
      "text/plain": [
       "⎡0  0     0      0 ⎤\n",
       "⎢                  ⎥\n",
       "⎢0  0     0      0 ⎥\n",
       "⎢                  ⎥\n",
       "⎢          2       ⎥\n",
       "⎢0  0  -sin (θ)  0 ⎥\n",
       "⎢                  ⎥\n",
       "⎣0  0     0      -1⎦"
      ]
     },
     "execution_count": 40,
     "metadata": {},
     "output_type": "execute_result"
    }
   ],
   "source": [
    "R_tensor_14 = RicciTensor.from_metric(metric_14)\n",
    "R_tensor_14.tensor()"
   ]
  },
  {
   "cell_type": "code",
   "execution_count": 41,
   "id": "c310df84-df1f-456b-9379-c31e261677cf",
   "metadata": {},
   "outputs": [
    {
     "data": {
      "text/latex": [
       "$\\displaystyle R_{22} = - \\sin^{2}{\\left(\\theta \\right)}$"
      ],
      "text/plain": [
       "<IPython.core.display.Math object>"
      ]
     },
     "metadata": {},
     "output_type": "display_data"
    },
    {
     "data": {
      "text/latex": [
       "$\\displaystyle R_{33} = -1$"
      ],
      "text/plain": [
       "<IPython.core.display.Math object>"
      ]
     },
     "metadata": {},
     "output_type": "display_data"
    }
   ],
   "source": [
    "for i, j in product(range(4), range(4)):\n",
    "    if R_tensor_14[i, j] != 0:\n",
    "        display(Math(f'R_{{{i}{j}}} = ' + latex(R_tensor_14[i, j])))"
   ]
  },
  {
   "cell_type": "markdown",
   "id": "291b029f",
   "metadata": {},
   "source": [
    "# Ricci Scalar ($R$)"
   ]
  },
  {
   "cell_type": "code",
   "execution_count": 42,
   "id": "5e9bd490",
   "metadata": {},
   "outputs": [
    {
     "data": {
      "image/png": "[encoded data removed]",
      "text/latex": [
       "$\\displaystyle - \\frac{2}{R^{2}}$"
      ],
      "text/plain": [
       "-2 \n",
       "───\n",
       "  2\n",
       " R "
      ]
     },
     "execution_count": 42,
     "metadata": {},
     "output_type": "execute_result"
    }
   ],
   "source": [
    "R_scalar_14 = RicciScalar.from_metric(metric_14)\n",
    "R_scalar_14.simplify()\n",
    "R_scalar_14.expr"
   ]
  },
  {
   "cell_type": "markdown",
   "id": "143b5dc3",
   "metadata": {},
   "source": [
    "# EinsteinTensor ($G_{\\mu\\nu}$)"
   ]
  },
  {
   "cell_type": "code",
   "execution_count": 43,
   "id": "61f480cc",
   "metadata": {},
   "outputs": [
    {
     "data": {
      "text/latex": [
       "$\\displaystyle \\left[\\begin{matrix}- \\frac{1.0}{R^{2}} & 0 & 0 & 0\\\\0 & \\frac{1.0}{R^{2}} & 0 & 0\\\\0 & 0 & 0 & 0\\\\0 & 0 & 0 & 0\\end{matrix}\\right]$"
      ],
      "text/plain": [
       "⎡-1.0            ⎤\n",
       "⎢─────   0   0  0⎥\n",
       "⎢   2            ⎥\n",
       "⎢  R             ⎥\n",
       "⎢                ⎥\n",
       "⎢       1.0      ⎥\n",
       "⎢  0    ───  0  0⎥\n",
       "⎢         2      ⎥\n",
       "⎢        R       ⎥\n",
       "⎢                ⎥\n",
       "⎢  0     0   0  0⎥\n",
       "⎢                ⎥\n",
       "⎣  0     0   0  0⎦"
      ]
     },
     "execution_count": 43,
     "metadata": {},
     "output_type": "execute_result"
    }
   ],
   "source": [
    "einst_14 = EinsteinTensor.from_metric(metric_14)\n",
    "einst_14.tensor()"
   ]
  },
  {
   "cell_type": "code",
   "execution_count": 44,
   "id": "7f04523d-6dc3-4e91-9963-3c01eb64755d",
   "metadata": {},
   "outputs": [
    {
     "data": {
      "text/latex": [
       "$\\displaystyle G_{00} = - \\frac{1.0}{R^{2}}$"
      ],
      "text/plain": [
       "<IPython.core.display.Math object>"
      ]
     },
     "metadata": {},
     "output_type": "display_data"
    },
    {
     "data": {
      "text/latex": [
       "$\\displaystyle G_{11} = \\frac{1.0}{R^{2}}$"
      ],
      "text/plain": [
       "<IPython.core.display.Math object>"
      ]
     },
     "metadata": {},
     "output_type": "display_data"
    }
   ],
   "source": [
    "for i, j in product(range(4), range(4)):\n",
    "    if einst_14[i, j] != 0:\n",
    "        display(Math(f'G_{{{i}{j}}} = ' + latex(einst_14[i, j])))"
   ]
  },
  {
   "cell_type": "markdown",
   "id": "8f640d04",
   "metadata": {},
   "source": [
    "# Stress Energy Momentum Tensor ($T_{\\mu\\nu}$)"
   ]
  },
  {
   "cell_type": "code",
   "execution_count": 45,
   "id": "97333090",
   "metadata": {},
   "outputs": [
    {
     "data": {
      "text/latex": [
       "$\\displaystyle \\left[\\begin{matrix}\\frac{0.0397887357729738 c^{4} \\left(\\Lambda - \\frac{1.0}{R^{2}}\\right)}{G} & 0 & 0 & 0\\\\0 & \\frac{0.0397887357729738 c^{4} \\left(- \\Lambda + \\frac{1.0}{R^{2}}\\right)}{G} & 0 & 0\\\\0 & 0 & - \\frac{0.0397887357729738 R^{2} \\Lambda c^{4} \\sin^{2}{\\left(\\theta \\right)}}{G} & 0\\\\0 & 0 & 0 & - \\frac{0.0397887357729738 R^{2} \\Lambda c^{4}}{G}\\end{matrix}\\right]$"
      ],
      "text/plain": [
       "⎡                    4 ⎛    1 ⎞                                               \n",
       "⎢0.0397887357729738⋅c ⋅⎜Λ - ──⎟                                               \n",
       "⎢                      ⎜     2⎟                                               \n",
       "⎢                      ⎝    R ⎠                                               \n",
       "⎢──────────────────────────────                 0                             \n",
       "⎢              G                                                              \n",
       "⎢                                                                             \n",
       "⎢                                                    4 ⎛     1.0⎞             \n",
       "⎢                                0.0397887357729738⋅c ⋅⎜-Λ + ───⎟             \n",
       "⎢                                                      ⎜       2⎟             \n",
       "⎢                                                      ⎝      R ⎠             \n",
       "⎢              0                 ────────────────────────────────             \n",
       "⎢                                               G                             \n",
       "⎢                                                                             \n",
       "⎢                                                                             \n",
       "⎢                                                                  -0.03978873\n",
       "⎢              0                                0                  ───────────\n",
       "⎢                                                                             \n",
       "⎢                                                                             \n",
       "⎢                                                                             \n",
       "⎢                                                                             \n",
       "⎢              0                                0                             \n",
       "⎣                                                                             \n",
       "\n",
       "                                                       ⎤\n",
       "                                                       ⎥\n",
       "                                                       ⎥\n",
       "                                                       ⎥\n",
       "      0                                 0              ⎥\n",
       "                                                       ⎥\n",
       "                                                       ⎥\n",
       "                                                       ⎥\n",
       "                                                       ⎥\n",
       "                                                       ⎥\n",
       "                                                       ⎥\n",
       "      0                                 0              ⎥\n",
       "                                                       ⎥\n",
       "                                                       ⎥\n",
       "          2    4    2                                  ⎥\n",
       "57729738⋅R ⋅Λ⋅c ⋅sin (θ)                               ⎥\n",
       "─────────────────────────               0              ⎥\n",
       "      G                                                ⎥\n",
       "                                                       ⎥\n",
       "                                                2    4 ⎥\n",
       "                           -0.0397887357729738⋅R ⋅Λ⋅c  ⎥\n",
       "      0                    ────────────────────────────⎥\n",
       "                                        G              ⎦"
      ]
     },
     "execution_count": 45,
     "metadata": {},
     "output_type": "execute_result"
    }
   ],
   "source": [
    "T_14 = StressEnergyMomentumTensor.from_metric(metric_14)\n",
    "T_14.tensor()"
   ]
  },
  {
   "cell_type": "code",
   "execution_count": 46,
   "id": "78e28bb7-cd3b-495f-b529-892a7fc7f67f",
   "metadata": {},
   "outputs": [
    {
     "data": {
      "text/latex": [
       "$\\displaystyle T_{00} = \\frac{0.0397887357729738 c^{4} \\left(\\Lambda - \\frac{1.0}{R^{2}}\\right)}{G}$"
      ],
      "text/plain": [
       "<IPython.core.display.Math object>"
      ]
     },
     "metadata": {},
     "output_type": "display_data"
    },
    {
     "data": {
      "text/latex": [
       "$\\displaystyle T_{11} = \\frac{0.0397887357729738 c^{4} \\left(- \\Lambda + \\frac{1.0}{R^{2}}\\right)}{G}$"
      ],
      "text/plain": [
       "<IPython.core.display.Math object>"
      ]
     },
     "metadata": {},
     "output_type": "display_data"
    },
    {
     "data": {
      "text/latex": [
       "$\\displaystyle T_{22} = - \\frac{0.0397887357729738 R^{2} \\Lambda c^{4} \\sin^{2}{\\left(\\theta \\right)}}{G}$"
      ],
      "text/plain": [
       "<IPython.core.display.Math object>"
      ]
     },
     "metadata": {},
     "output_type": "display_data"
    },
    {
     "data": {
      "text/latex": [
       "$\\displaystyle T_{33} = - \\frac{0.0397887357729738 R^{2} \\Lambda c^{4}}{G}$"
      ],
      "text/plain": [
       "<IPython.core.display.Math object>"
      ]
     },
     "metadata": {},
     "output_type": "display_data"
    }
   ],
   "source": [
    "for i, j in product(range(4), range(4)):\n",
    "    if T_14[i, j] != 0:\n",
    "        display(Math(f'T_{{{i}{j}}} = ' + latex(T_14[i, j])))"
   ]
  },
  {
   "cell_type": "markdown",
   "id": "6f6314f8",
   "metadata": {},
   "source": [
    "# #2\n",
    "# Metric Tensor ($g_{\\mu\\nu}$)"
   ]
  },
  {
   "cell_type": "markdown",
   "id": "c13f03cc",
   "metadata": {},
   "source": [
    "# 3x3 Matrix"
   ]
  },
  {
   "cell_type": "code",
   "execution_count": 47,
   "id": "56719385",
   "metadata": {},
   "outputs": [
    {
     "data": {
      "text/latex": [
       "$\\displaystyle \\left[\\begin{matrix}a^{2}{\\left(t \\right)} & 0 & 0\\\\0 & r^{2} a^{2}{\\left(t \\right)} \\sin^{2}{\\left(\\theta \\right)} & 0\\\\0 & 0 & r^{2} a^{2}{\\left(t \\right)}\\end{matrix}\\right]$"
      ],
      "text/plain": [
       "⎡ 2                               ⎤\n",
       "⎢a (t)         0             0    ⎥\n",
       "⎢                                 ⎥\n",
       "⎢        2  2       2             ⎥\n",
       "⎢  0    r ⋅a (t)⋅sin (θ)     0    ⎥\n",
       "⎢                                 ⎥\n",
       "⎢                          2  2   ⎥\n",
       "⎣  0           0          r ⋅a (t)⎦"
      ]
     },
     "execution_count": 47,
     "metadata": {},
     "output_type": "execute_result"
    }
   ],
   "source": [
    "# Defining the metric tensor for 3d spherical coordinates\n",
    "syms = smp.symbols('r theta phi ')\n",
    "t = smp.symbols('t')\n",
    "a = smp.Function(\"a\")\n",
    "# define the metric for 3d spherical coordinates\n",
    "metric = [[0 for i in range(3)] for i in range(3)]\n",
    "metric[0][0] = a(t)**2\n",
    "metric[2][2] = syms[0]**2 *  a(t)**2\n",
    "metric[1][1] = (syms[0]**2)*(smp.sin(syms[1])**2) * a(t)**2\n",
    "# creating metric object\n",
    "metric_23 = MetricTensor(metric, syms)\n",
    "metric_23.tensor()"
   ]
  },
  {
   "cell_type": "code",
   "execution_count": 48,
   "id": "07de195d-a8e9-4d8d-ab2d-9f719e010fb5",
   "metadata": {},
   "outputs": [
    {
     "data": {
      "text/latex": [
       "$\\displaystyle g_{00} = a^{2}{\\left(t \\right)}$"
      ],
      "text/plain": [
       "<IPython.core.display.Math object>"
      ]
     },
     "metadata": {},
     "output_type": "display_data"
    },
    {
     "data": {
      "text/latex": [
       "$\\displaystyle g_{11} = r^{2} a^{2}{\\left(t \\right)} \\sin^{2}{\\left(\\theta \\right)}$"
      ],
      "text/plain": [
       "<IPython.core.display.Math object>"
      ]
     },
     "metadata": {},
     "output_type": "display_data"
    },
    {
     "data": {
      "text/latex": [
       "$\\displaystyle g_{22} = r^{2} a^{2}{\\left(t \\right)}$"
      ],
      "text/plain": [
       "<IPython.core.display.Math object>"
      ]
     },
     "metadata": {},
     "output_type": "display_data"
    }
   ],
   "source": [
    "for  j, k in product(range(3), range(3)):\n",
    "    if metric_23[j, k] != 0:\n",
    "        display(Math(f'g_{{{j}{k}}} = ' + latex(metric_23[j, k])))"
   ]
  },
  {
   "cell_type": "markdown",
   "id": "7f56ce5f",
   "metadata": {},
   "source": [
    "# Christoffel Symbols ( $\\Gamma^{\\lambda}_{\\mu\\nu}$ )"
   ]
  },
  {
   "cell_type": "code",
   "execution_count": 49,
   "id": "ec2cdd39",
   "metadata": {},
   "outputs": [
    {
     "data": {
      "text/latex": [
       "$\\displaystyle \\left[\\begin{matrix}\\left[\\begin{matrix}0 & 0 & 0\\\\0 & - r \\sin^{2}{\\left(\\theta \\right)} & 0\\\\0 & 0 & - r\\end{matrix}\\right] & \\left[\\begin{matrix}0 & \\frac{1}{r} & 0\\\\\\frac{1}{r} & \\frac{\\cos{\\left(\\theta \\right)}}{\\sin{\\left(\\theta \\right)}} & 0\\\\0 & 0 & 0\\end{matrix}\\right] & \\left[\\begin{matrix}0 & 0 & \\frac{1}{r}\\\\0 & 0 & 0\\\\\\frac{1}{r} & 0 & 0\\end{matrix}\\right]\\end{matrix}\\right]$"
      ],
      "text/plain": [
       "⎡                     ⎡     1      ⎤  ⎡      1⎤⎤\n",
       "⎢⎡0      0       0 ⎤  ⎢0    ─     0⎥  ⎢0  0  ─⎥⎥\n",
       "⎢⎢                 ⎥  ⎢     r      ⎥  ⎢      r⎥⎥\n",
       "⎢⎢         2       ⎥  ⎢            ⎥  ⎢       ⎥⎥\n",
       "⎢⎢0  -r⋅sin (θ)  0 ⎥  ⎢1  cos(θ)   ⎥  ⎢0  0  0⎥⎥\n",
       "⎢⎢                 ⎥  ⎢─  ──────  0⎥  ⎢       ⎥⎥\n",
       "⎢⎣0      0       -r⎦  ⎢r  sin(θ)   ⎥  ⎢1      ⎥⎥\n",
       "⎢                     ⎢            ⎥  ⎢─  0  0⎥⎥\n",
       "⎣                     ⎣0    0     0⎦  ⎣r      ⎦⎦"
      ]
     },
     "execution_count": 49,
     "metadata": {},
     "output_type": "execute_result"
    }
   ],
   "source": [
    "ch_23 = ChristoffelSymbols.from_metric(metric_23)\n",
    "ch_23.tensor()"
   ]
  },
  {
   "cell_type": "code",
   "execution_count": 50,
   "id": "b2f8ba72-d7d9-47c7-a7f0-3dc8d5447805",
   "metadata": {},
   "outputs": [
    {
     "data": {
      "text/latex": [
       "$\\displaystyle \\Gamma^0_{1,1} = - r \\sin^{2}{\\left(\\theta \\right)}$"
      ],
      "text/plain": [
       "<IPython.core.display.Math object>"
      ]
     },
     "metadata": {},
     "output_type": "display_data"
    },
    {
     "data": {
      "text/latex": [
       "$\\displaystyle \\Gamma^0_{2,2} = - r$"
      ],
      "text/plain": [
       "<IPython.core.display.Math object>"
      ]
     },
     "metadata": {},
     "output_type": "display_data"
    },
    {
     "data": {
      "text/latex": [
       "$\\displaystyle \\Gamma^1_{0,1} = \\frac{1}{r}$"
      ],
      "text/plain": [
       "<IPython.core.display.Math object>"
      ]
     },
     "metadata": {},
     "output_type": "display_data"
    },
    {
     "data": {
      "text/latex": [
       "$\\displaystyle \\Gamma^1_{1,0} = \\frac{1}{r}$"
      ],
      "text/plain": [
       "<IPython.core.display.Math object>"
      ]
     },
     "metadata": {},
     "output_type": "display_data"
    },
    {
     "data": {
      "text/latex": [
       "$\\displaystyle \\Gamma^1_{1,1} = \\frac{\\cos{\\left(\\theta \\right)}}{\\sin{\\left(\\theta \\right)}}$"
      ],
      "text/plain": [
       "<IPython.core.display.Math object>"
      ]
     },
     "metadata": {},
     "output_type": "display_data"
    },
    {
     "data": {
      "text/latex": [
       "$\\displaystyle \\Gamma^2_{0,2} = \\frac{1}{r}$"
      ],
      "text/plain": [
       "<IPython.core.display.Math object>"
      ]
     },
     "metadata": {},
     "output_type": "display_data"
    },
    {
     "data": {
      "text/latex": [
       "$\\displaystyle \\Gamma^2_{2,0} = \\frac{1}{r}$"
      ],
      "text/plain": [
       "<IPython.core.display.Math object>"
      ]
     },
     "metadata": {},
     "output_type": "display_data"
    }
   ],
   "source": [
    "for i, j, k in product(range(3), range(3), range(3)):\n",
    "    if ch_23[i, j, k] != 0:\n",
    "        display(Math(f'\\Gamma^{i}_{{{j},{k}}} = ' + latex(ch_23[i, j, k])))"
   ]
  },
  {
   "cell_type": "markdown",
   "id": "7fd9c2c6",
   "metadata": {},
   "source": [
    "# Riemann Tensor ($R^{\\lambda}_{\\mu\\nu\\gamma}$)"
   ]
  },
  {
   "cell_type": "code",
   "execution_count": 51,
   "id": "21156a9d",
   "metadata": {},
   "outputs": [
    {
     "data": {
      "text/latex": [
       "$\\displaystyle \\left[\\begin{matrix}\\left[\\begin{matrix}0 & 0 & 0\\\\0 & 0 & 0\\\\0 & 0 & 0\\end{matrix}\\right] & \\left[\\begin{matrix}0 & 0 & 0\\\\0 & 0 & 0\\\\0 & 0 & 0\\end{matrix}\\right] & \\left[\\begin{matrix}0 & 0 & 0\\\\0 & 0 & 0\\\\0 & 0 & 0\\end{matrix}\\right]\\\\\\left[\\begin{matrix}0 & 0 & 0\\\\0 & 0 & 0\\\\0 & 0 & 0\\end{matrix}\\right] & \\left[\\begin{matrix}0 & 0 & 0\\\\0 & 0 & 0\\\\0 & 0 & 0\\end{matrix}\\right] & \\left[\\begin{matrix}0 & 0 & 0\\\\0 & 0 & -1\\\\0 & 1 & 0\\end{matrix}\\right]\\\\\\left[\\begin{matrix}0 & 0 & 0\\\\0 & 0 & 0\\\\0 & 0 & 0\\end{matrix}\\right] & \\left[\\begin{matrix}0 & 0 & 0\\\\0 & 0 & \\sin^{2}{\\left(\\theta \\right)}\\\\0 & - \\sin^{2}{\\left(\\theta \\right)} & 0\\end{matrix}\\right] & \\left[\\begin{matrix}0 & 0 & 0\\\\0 & 0 & 0\\\\0 & 0 & 0\\end{matrix}\\right]\\end{matrix}\\right]$"
      ],
      "text/plain": [
       "⎡⎡0  0  0⎤        ⎡0  0  0⎤         ⎡0  0  0⎤ ⎤\n",
       "⎢⎢       ⎥        ⎢       ⎥         ⎢       ⎥ ⎥\n",
       "⎢⎢0  0  0⎥        ⎢0  0  0⎥         ⎢0  0  0⎥ ⎥\n",
       "⎢⎢       ⎥        ⎢       ⎥         ⎢       ⎥ ⎥\n",
       "⎢⎣0  0  0⎦        ⎣0  0  0⎦         ⎣0  0  0⎦ ⎥\n",
       "⎢                                             ⎥\n",
       "⎢⎡0  0  0⎤        ⎡0  0  0⎤         ⎡0  0  0 ⎤⎥\n",
       "⎢⎢       ⎥        ⎢       ⎥         ⎢        ⎥⎥\n",
       "⎢⎢0  0  0⎥        ⎢0  0  0⎥         ⎢0  0  -1⎥⎥\n",
       "⎢⎢       ⎥        ⎢       ⎥         ⎢        ⎥⎥\n",
       "⎢⎣0  0  0⎦        ⎣0  0  0⎦         ⎣0  1  0 ⎦⎥\n",
       "⎢                                             ⎥\n",
       "⎢           ⎡0     0         0   ⎤            ⎥\n",
       "⎢⎡0  0  0⎤  ⎢                    ⎥  ⎡0  0  0⎤ ⎥\n",
       "⎢⎢       ⎥  ⎢                2   ⎥  ⎢       ⎥ ⎥\n",
       "⎢⎢0  0  0⎥  ⎢0     0      sin (θ)⎥  ⎢0  0  0⎥ ⎥\n",
       "⎢⎢       ⎥  ⎢                    ⎥  ⎢       ⎥ ⎥\n",
       "⎢⎣0  0  0⎦  ⎢       2            ⎥  ⎣0  0  0⎦ ⎥\n",
       "⎣           ⎣0  -sin (θ)     0   ⎦            ⎦"
      ]
     },
     "execution_count": 51,
     "metadata": {},
     "output_type": "execute_result"
    }
   ],
   "source": [
    "# Calculating Riemann Tensor from Christoffel Symbols\n",
    "rm_23 = RiemannCurvatureTensor.from_christoffels(ch_23)\n",
    "rm_23.tensor()"
   ]
  },
  {
   "cell_type": "code",
   "execution_count": 52,
   "id": "03ca4e06-ff9d-4a04-940c-4b266c4eefaa",
   "metadata": {},
   "outputs": [
    {
     "data": {
      "text/latex": [
       "$\\displaystyle R^1_{212} = -1$"
      ],
      "text/plain": [
       "<IPython.core.display.Math object>"
      ]
     },
     "metadata": {},
     "output_type": "display_data"
    },
    {
     "data": {
      "text/latex": [
       "$\\displaystyle R^1_{221} = 1$"
      ],
      "text/plain": [
       "<IPython.core.display.Math object>"
      ]
     },
     "metadata": {},
     "output_type": "display_data"
    },
    {
     "data": {
      "text/latex": [
       "$\\displaystyle R^2_{112} = \\sin^{2}{\\left(\\theta \\right)}$"
      ],
      "text/plain": [
       "<IPython.core.display.Math object>"
      ]
     },
     "metadata": {},
     "output_type": "display_data"
    },
    {
     "data": {
      "text/latex": [
       "$\\displaystyle R^2_{121} = - \\sin^{2}{\\left(\\theta \\right)}$"
      ],
      "text/plain": [
       "<IPython.core.display.Math object>"
      ]
     },
     "metadata": {},
     "output_type": "display_data"
    }
   ],
   "source": [
    "for i, j, k, p in product(range(3), range(3), range(3),range(3)):\n",
    "    if rm_23[i, j, k, p] != 0:\n",
    "        display(Math(f'R^{i}_{{{j}{k}{p}}} = ' + latex(rm_23[i, j, k,p])))"
   ]
  },
  {
   "cell_type": "markdown",
   "id": "3aad4c2a",
   "metadata": {},
   "source": [
    "# Ricci Tensor ($R_{\\mu\\nu}$)  "
   ]
  },
  {
   "cell_type": "code",
   "execution_count": 53,
   "id": "f90ba13d",
   "metadata": {},
   "outputs": [
    {
     "data": {
      "text/latex": [
       "$\\displaystyle \\left[\\begin{matrix}0 & 0 & 0\\\\0 & - \\sin^{2}{\\left(\\theta \\right)} & 0\\\\0 & 0 & -1\\end{matrix}\\right]$"
      ],
      "text/plain": [
       "⎡0     0      0 ⎤\n",
       "⎢               ⎥\n",
       "⎢       2       ⎥\n",
       "⎢0  -sin (θ)  0 ⎥\n",
       "⎢               ⎥\n",
       "⎣0     0      -1⎦"
      ]
     },
     "execution_count": 53,
     "metadata": {},
     "output_type": "execute_result"
    }
   ],
   "source": [
    "R_tensor_23 = RicciTensor.from_metric(metric_23)\n",
    "R_tensor_23.tensor()"
   ]
  },
  {
   "cell_type": "code",
   "execution_count": 54,
   "id": "6c2473cc-7296-4cef-86c3-5bb3087de90d",
   "metadata": {},
   "outputs": [
    {
     "data": {
      "text/latex": [
       "$\\displaystyle R_{11} = - \\sin^{2}{\\left(\\theta \\right)}$"
      ],
      "text/plain": [
       "<IPython.core.display.Math object>"
      ]
     },
     "metadata": {},
     "output_type": "display_data"
    },
    {
     "data": {
      "text/latex": [
       "$\\displaystyle R_{22} = -1$"
      ],
      "text/plain": [
       "<IPython.core.display.Math object>"
      ]
     },
     "metadata": {},
     "output_type": "display_data"
    }
   ],
   "source": [
    "for i, j in product(range(3), range(3)):\n",
    "    if R_tensor_23[i, j] != 0:\n",
    "        display(Math(f'R_{{{i}{j}}} = ' + latex(R_tensor_23[i, j])))"
   ]
  },
  {
   "cell_type": "markdown",
   "id": "e04b6ae4",
   "metadata": {},
   "source": [
    "# Ricci Scalar ($R$)"
   ]
  },
  {
   "cell_type": "code",
   "execution_count": 55,
   "id": "d40481bf",
   "metadata": {},
   "outputs": [
    {
     "data": {
      "image/png": "[encoded data removed]",
      "text/latex": [
       "$\\displaystyle - \\frac{2}{r^{2} a^{2}{\\left(t \\right)}}$"
      ],
      "text/plain": [
       "  -2    \n",
       "────────\n",
       " 2  2   \n",
       "r ⋅a (t)"
      ]
     },
     "execution_count": 55,
     "metadata": {},
     "output_type": "execute_result"
    }
   ],
   "source": [
    "R_scalar_23 = RicciScalar.from_metric(metric_23)\n",
    "R_scalar_23.simplify()\n",
    "R_scalar_23.expr"
   ]
  },
  {
   "cell_type": "markdown",
   "id": "939cb289",
   "metadata": {},
   "source": [
    "# EinsteinTensor ($G_{\\mu\\nu}$)"
   ]
  },
  {
   "cell_type": "code",
   "execution_count": 56,
   "id": "e26e2846",
   "metadata": {},
   "outputs": [
    {
     "data": {
      "text/latex": [
       "$\\displaystyle \\left[\\begin{matrix}\\frac{1.0}{r^{2}} & 0 & 0\\\\0 & 0 & 0\\\\0 & 0 & 0\\end{matrix}\\right]$"
      ],
      "text/plain": [
       "⎡1.0      ⎤\n",
       "⎢───  0  0⎥\n",
       "⎢  2      ⎥\n",
       "⎢ r       ⎥\n",
       "⎢         ⎥\n",
       "⎢ 0   0  0⎥\n",
       "⎢         ⎥\n",
       "⎣ 0   0  0⎦"
      ]
     },
     "execution_count": 56,
     "metadata": {},
     "output_type": "execute_result"
    }
   ],
   "source": [
    "einst_23 = EinsteinTensor.from_metric(metric_23)\n",
    "einst_23.tensor()"
   ]
  },
  {
   "cell_type": "code",
   "execution_count": 57,
   "id": "b06ea6c5-f550-447f-bc41-973ae79940ce",
   "metadata": {},
   "outputs": [
    {
     "data": {
      "text/latex": [
       "$\\displaystyle G_{00} = \\frac{1.0}{r^{2}}$"
      ],
      "text/plain": [
       "<IPython.core.display.Math object>"
      ]
     },
     "metadata": {},
     "output_type": "display_data"
    }
   ],
   "source": [
    "for i, j in product(range(3), range(3)):\n",
    "    if einst_23[i, j] != 0:\n",
    "        display(Math(f'G_{{{i}{j}}} = ' + latex(einst_23[i, j])))"
   ]
  },
  {
   "cell_type": "markdown",
   "id": "239b5606",
   "metadata": {},
   "source": [
    "# Stress Energy Momentum Tensor ($T_{\\mu\\nu}$)"
   ]
  },
  {
   "cell_type": "code",
   "execution_count": 58,
   "id": "7edc05e0",
   "metadata": {},
   "outputs": [
    {
     "data": {
      "text/latex": [
       "$\\displaystyle \\left[\\begin{matrix}\\frac{0.0397887357729738 c^{4} \\left(- \\Lambda a^{2}{\\left(t \\right)} + \\frac{1.0}{r^{2}}\\right)}{G} & 0 & 0\\\\0 & - \\frac{0.0397887357729738 r^{2} \\Lambda c^{4} a^{2}{\\left(t \\right)} \\sin^{2}{\\left(\\theta \\right)}}{G} & 0\\\\0 & 0 & - \\frac{0.0397887357729738 r^{2} \\Lambda c^{4} a^{2}{\\left(t \\right)}}{G}\\end{matrix}\\right]$"
      ],
      "text/plain": [
       "⎡                    4 ⎛     2      1.0⎞                                      \n",
       "⎢0.0397887357729738⋅c ⋅⎜- Λ⋅a (t) + ───⎟                                      \n",
       "⎢                      ⎜              2⎟                                      \n",
       "⎢                      ⎝             r ⎠                                      \n",
       "⎢───────────────────────────────────────                      0               \n",
       "⎢                   G                                                         \n",
       "⎢                                                                             \n",
       "⎢                                                              2    4  2      \n",
       "⎢                                         -0.0397887357729738⋅r ⋅Λ⋅c ⋅a (t)⋅si\n",
       "⎢                   0                     ────────────────────────────────────\n",
       "⎢                                                             G               \n",
       "⎢                                                                             \n",
       "⎢                                                                             \n",
       "⎢                                                                             \n",
       "⎢                   0                                         0               \n",
       "⎣                                                                             \n",
       "\n",
       "                                          ⎤\n",
       "                                          ⎥\n",
       "                                          ⎥\n",
       "                                          ⎥\n",
       "                        0                 ⎥\n",
       "                                          ⎥\n",
       "                                          ⎥\n",
       " 2                                        ⎥\n",
       "n (θ)                                     ⎥\n",
       "──────                  0                 ⎥\n",
       "                                          ⎥\n",
       "                                          ⎥\n",
       "                             2    4  2    ⎥\n",
       "        -0.0397887357729738⋅r ⋅Λ⋅c ⋅a (t) ⎥\n",
       "        ──────────────────────────────────⎥\n",
       "                        G                 ⎦"
      ]
     },
     "execution_count": 58,
     "metadata": {},
     "output_type": "execute_result"
    }
   ],
   "source": [
    "T_23 = StressEnergyMomentumTensor.from_metric(metric_23)\n",
    "T_23.tensor()"
   ]
  },
  {
   "cell_type": "code",
   "execution_count": 59,
   "id": "9b04b288-01e0-4417-a724-5078c1059339",
   "metadata": {},
   "outputs": [
    {
     "data": {
      "text/latex": [
       "$\\displaystyle T_{00} = \\frac{0.0397887357729738 c^{4} \\left(- \\Lambda a^{2}{\\left(t \\right)} + \\frac{1.0}{r^{2}}\\right)}{G}$"
      ],
      "text/plain": [
       "<IPython.core.display.Math object>"
      ]
     },
     "metadata": {},
     "output_type": "display_data"
    },
    {
     "data": {
      "text/latex": [
       "$\\displaystyle T_{11} = - \\frac{0.0397887357729738 r^{2} \\Lambda c^{4} a^{2}{\\left(t \\right)} \\sin^{2}{\\left(\\theta \\right)}}{G}$"
      ],
      "text/plain": [
       "<IPython.core.display.Math object>"
      ]
     },
     "metadata": {},
     "output_type": "display_data"
    },
    {
     "data": {
      "text/latex": [
       "$\\displaystyle T_{22} = - \\frac{0.0397887357729738 r^{2} \\Lambda c^{4} a^{2}{\\left(t \\right)}}{G}$"
      ],
      "text/plain": [
       "<IPython.core.display.Math object>"
      ]
     },
     "metadata": {},
     "output_type": "display_data"
    }
   ],
   "source": [
    "for i, j in product(range(3), range(3)):\n",
    "    if T_23[i, j] != 0:\n",
    "        display(Math(f'T_{{{i}{j}}} = ' + latex(T_23[i, j])))"
   ]
  },
  {
   "cell_type": "markdown",
   "id": "4df7d994",
   "metadata": {},
   "source": [
    "# Metric Tensor ($g_{\\mu\\nu}$)"
   ]
  },
  {
   "cell_type": "markdown",
   "id": "95fd2a2d",
   "metadata": {},
   "source": [
    "# 4x4 Matrix"
   ]
  },
  {
   "cell_type": "code",
   "execution_count": 60,
   "id": "faae797e",
   "metadata": {},
   "outputs": [
    {
     "data": {
      "text/latex": [
       "$\\displaystyle \\left[\\begin{matrix}-1 & 0 & 0 & 0\\\\0 & a^{2}{\\left(t \\right)} & 0 & 0\\\\0 & 0 & r^{2} a^{2}{\\left(t \\right)} \\sin^{2}{\\left(\\phi \\right)} & 0\\\\0 & 0 & 0 & r^{2} a^{2}{\\left(t \\right)}\\end{matrix}\\right]$"
      ],
      "text/plain": [
       "⎡-1    0           0             0    ⎤\n",
       "⎢                                     ⎥\n",
       "⎢     2                               ⎥\n",
       "⎢0   a (t)         0             0    ⎥\n",
       "⎢                                     ⎥\n",
       "⎢            2  2       2             ⎥\n",
       "⎢0     0    r ⋅a (t)⋅sin (φ)     0    ⎥\n",
       "⎢                                     ⎥\n",
       "⎢                              2  2   ⎥\n",
       "⎣0     0           0          r ⋅a (t)⎦"
      ]
     },
     "execution_count": 60,
     "metadata": {},
     "output_type": "execute_result"
    }
   ],
   "source": [
    "syms = smp.symbols(\"t r theta phi\")\n",
    "G, M, c = smp.symbols(\"G M c\")\n",
    "a = smp.Function(\"a\")\n",
    "# using metric values of schwarschild space-time\n",
    "# a is schwarzschild radius\n",
    "list2d = [[0 for i in range(4)] for i in range(4)]\n",
    "list2d[0][0] = -1 \n",
    "list2d[1][1] = a(t)**2\n",
    "list2d[2][2] = (syms[1]**2)*(smp.sin(syms[3])**2) * a(t)**2\n",
    "list2d[3][3] = (syms[1]**2) *  a(t)**2\n",
    "metric_24 = MetricTensor(list2d, syms)\n",
    "metric_24.tensor()"
   ]
  },
  {
   "cell_type": "code",
   "execution_count": 61,
   "id": "8902d82f-4cb5-45b8-82a8-9ec8a4c793eb",
   "metadata": {},
   "outputs": [
    {
     "data": {
      "text/latex": [
       "$\\displaystyle g_{00} = -1$"
      ],
      "text/plain": [
       "<IPython.core.display.Math object>"
      ]
     },
     "metadata": {},
     "output_type": "display_data"
    },
    {
     "data": {
      "text/latex": [
       "$\\displaystyle g_{11} = a^{2}{\\left(t \\right)}$"
      ],
      "text/plain": [
       "<IPython.core.display.Math object>"
      ]
     },
     "metadata": {},
     "output_type": "display_data"
    },
    {
     "data": {
      "text/latex": [
       "$\\displaystyle g_{22} = r^{2} a^{2}{\\left(t \\right)} \\sin^{2}{\\left(\\phi \\right)}$"
      ],
      "text/plain": [
       "<IPython.core.display.Math object>"
      ]
     },
     "metadata": {},
     "output_type": "display_data"
    },
    {
     "data": {
      "text/latex": [
       "$\\displaystyle g_{33} = r^{2} a^{2}{\\left(t \\right)}$"
      ],
      "text/plain": [
       "<IPython.core.display.Math object>"
      ]
     },
     "metadata": {},
     "output_type": "display_data"
    }
   ],
   "source": [
    "for  j, k in product(range(4), range(4)):\n",
    "    if metric_24[j, k] != 0:\n",
    "        display(Math(f'g_{{{j}{k}}} = ' + latex(metric_24[j, k])))"
   ]
  },
  {
   "cell_type": "markdown",
   "id": "3bb454c2",
   "metadata": {},
   "source": [
    "# Christoffel Symbols ( $\\Gamma^{\\lambda}_{\\mu\\nu}$ )"
   ]
  },
  {
   "cell_type": "code",
   "execution_count": 62,
   "id": "3a684201",
   "metadata": {},
   "outputs": [
    {
     "data": {
      "text/latex": [
       "$\\displaystyle \\left[\\begin{matrix}\\left[\\begin{matrix}0 & 0 & 0 & 0\\\\0 & a{\\left(t \\right)} \\frac{d}{d t} a{\\left(t \\right)} & 0 & 0\\\\0 & 0 & r^{2} a{\\left(t \\right)} \\sin^{2}{\\left(\\phi \\right)} \\frac{d}{d t} a{\\left(t \\right)} & 0\\\\0 & 0 & 0 & r^{2} a{\\left(t \\right)} \\frac{d}{d t} a{\\left(t \\right)}\\end{matrix}\\right] & \\left[\\begin{matrix}0 & \\frac{\\frac{d}{d t} a{\\left(t \\right)}}{a{\\left(t \\right)}} & 0 & 0\\\\\\frac{\\frac{d}{d t} a{\\left(t \\right)}}{a{\\left(t \\right)}} & 0 & 0 & 0\\\\0 & 0 & - r \\sin^{2}{\\left(\\phi \\right)} & 0\\\\0 & 0 & 0 & - r\\end{matrix}\\right] & \\left[\\begin{matrix}0 & 0 & \\frac{\\frac{d}{d t} a{\\left(t \\right)}}{a{\\left(t \\right)}} & 0\\\\0 & 0 & \\frac{1}{r} & 0\\\\\\frac{\\frac{d}{d t} a{\\left(t \\right)}}{a{\\left(t \\right)}} & \\frac{1}{r} & 0 & \\frac{\\cos{\\left(\\phi \\right)}}{\\sin{\\left(\\phi \\right)}}\\\\0 & 0 & \\frac{\\cos{\\left(\\phi \\right)}}{\\sin{\\left(\\phi \\right)}} & 0\\end{matrix}\\right] & \\left[\\begin{matrix}0 & 0 & 0 & \\frac{\\frac{d}{d t} a{\\left(t \\right)}}{a{\\left(t \\right)}}\\\\0 & 0 & 0 & \\frac{1}{r}\\\\0 & 0 & - \\sin{\\left(\\phi \\right)} \\cos{\\left(\\phi \\right)} & 0\\\\\\frac{\\frac{d}{d t} a{\\left(t \\right)}}{a{\\left(t \\right)}} & \\frac{1}{r} & 0 & 0\\end{matrix}\\right]\\end{matrix}\\right]$"
      ],
      "text/plain": [
       "⎡                                                                             \n",
       "⎢                                                                ⎡          d \n",
       "⎢                                                                ⎢          ──\n",
       "⎢⎡0        0                   0                     0        ⎤  ⎢          dt\n",
       "⎢⎢                                                            ⎥  ⎢   0      ──\n",
       "⎢⎢        d                                                   ⎥  ⎢            \n",
       "⎢⎢0  a(t)⋅──(a(t))             0                     0        ⎥  ⎢            \n",
       "⎢⎢        dt                                                  ⎥  ⎢d           \n",
       "⎢⎢                                                            ⎥  ⎢──(a(t))    \n",
       "⎢⎢                   2         2    d                         ⎥  ⎢dt          \n",
       "⎢⎢0        0        r ⋅a(t)⋅sin (φ)⋅──(a(t))         0        ⎥  ⎢────────    \n",
       "⎢⎢                                  dt                        ⎥  ⎢  a(t)      \n",
       "⎢⎢                                                            ⎥  ⎢            \n",
       "⎢⎢                                             2      d       ⎥  ⎢            \n",
       "⎢⎢0        0                   0              r ⋅a(t)⋅──(a(t))⎥  ⎢   0        \n",
       "⎢⎣                                                    dt      ⎦  ⎢            \n",
       "⎢                                                                ⎣   0        \n",
       "⎢                                                                             \n",
       "⎣                                                                             \n",
       "\n",
       "                         ⎡             d               ⎤                      \n",
       "                      ⎤  ⎢             ──(a(t))        ⎥  ⎡                   \n",
       "(a(t))                ⎥  ⎢             dt              ⎥  ⎢                   \n",
       "                      ⎥  ⎢   0      0  ────────    0   ⎥  ⎢                   \n",
       "──────      0       0 ⎥  ⎢               a(t)          ⎥  ⎢   0      0        \n",
       "a(t)                  ⎥  ⎢                             ⎥  ⎢                   \n",
       "                      ⎥  ⎢                1            ⎥  ⎢                   \n",
       "                      ⎥  ⎢   0      0     ─        0   ⎥  ⎢                   \n",
       "                      ⎥  ⎢                r            ⎥  ⎢   0      0        \n",
       "                      ⎥  ⎢                             ⎥  ⎢                   \n",
       " 0          0       0 ⎥  ⎢d                            ⎥  ⎢                   \n",
       "                      ⎥  ⎢──(a(t))                     ⎥  ⎢   0      0  -sin(φ\n",
       "                      ⎥  ⎢dt        1            cos(φ)⎥  ⎢                   \n",
       "              2       ⎥  ⎢────────  ─     0      ──────⎥  ⎢d                  \n",
       " 0      -r⋅sin (φ)  0 ⎥  ⎢  a(t)    r            sin(φ)⎥  ⎢──(a(t))           \n",
       "                      ⎥  ⎢                             ⎥  ⎢dt        1        \n",
       " 0          0       -r⎦  ⎢              cos(φ)         ⎥  ⎢────────  ─        \n",
       "                         ⎢   0      0   ──────     0   ⎥  ⎣  a(t)    r        \n",
       "                         ⎣              sin(φ)         ⎦                      \n",
       "\n",
       "                   ⎤\n",
       "          d       ⎤⎥\n",
       "          ──(a(t))⎥⎥\n",
       "          dt      ⎥⎥\n",
       "0         ────────⎥⎥\n",
       "            a(t)  ⎥⎥\n",
       "                  ⎥⎥\n",
       "             1    ⎥⎥\n",
       "0            ─    ⎥⎥\n",
       "             r    ⎥⎥\n",
       "                  ⎥⎥\n",
       ")⋅cos(φ)     0    ⎥⎥\n",
       "                  ⎥⎥\n",
       "                  ⎥⎥\n",
       "                  ⎥⎥\n",
       "                  ⎥⎥\n",
       "0            0    ⎥⎥\n",
       "                  ⎦⎥\n",
       "                   ⎦"
      ]
     },
     "execution_count": 62,
     "metadata": {},
     "output_type": "execute_result"
    }
   ],
   "source": [
    "ch_24 = ChristoffelSymbols.from_metric(metric_24)\n",
    "ch_24.tensor()"
   ]
  },
  {
   "cell_type": "code",
   "execution_count": 63,
   "id": "98cb4021-93ef-46f7-b057-ac462bf469e2",
   "metadata": {},
   "outputs": [
    {
     "data": {
      "text/latex": [
       "$\\displaystyle \\Gamma^0_{11} = a{\\left(t \\right)} \\frac{d}{d t} a{\\left(t \\right)}$"
      ],
      "text/plain": [
       "<IPython.core.display.Math object>"
      ]
     },
     "metadata": {},
     "output_type": "display_data"
    },
    {
     "data": {
      "text/latex": [
       "$\\displaystyle \\Gamma^0_{22} = r^{2} a{\\left(t \\right)} \\sin^{2}{\\left(\\phi \\right)} \\frac{d}{d t} a{\\left(t \\right)}$"
      ],
      "text/plain": [
       "<IPython.core.display.Math object>"
      ]
     },
     "metadata": {},
     "output_type": "display_data"
    },
    {
     "data": {
      "text/latex": [
       "$\\displaystyle \\Gamma^0_{33} = r^{2} a{\\left(t \\right)} \\frac{d}{d t} a{\\left(t \\right)}$"
      ],
      "text/plain": [
       "<IPython.core.display.Math object>"
      ]
     },
     "metadata": {},
     "output_type": "display_data"
    },
    {
     "data": {
      "text/latex": [
       "$\\displaystyle \\Gamma^1_{01} = \\frac{\\frac{d}{d t} a{\\left(t \\right)}}{a{\\left(t \\right)}}$"
      ],
      "text/plain": [
       "<IPython.core.display.Math object>"
      ]
     },
     "metadata": {},
     "output_type": "display_data"
    },
    {
     "data": {
      "text/latex": [
       "$\\displaystyle \\Gamma^1_{10} = \\frac{\\frac{d}{d t} a{\\left(t \\right)}}{a{\\left(t \\right)}}$"
      ],
      "text/plain": [
       "<IPython.core.display.Math object>"
      ]
     },
     "metadata": {},
     "output_type": "display_data"
    },
    {
     "data": {
      "text/latex": [
       "$\\displaystyle \\Gamma^1_{22} = - r \\sin^{2}{\\left(\\phi \\right)}$"
      ],
      "text/plain": [
       "<IPython.core.display.Math object>"
      ]
     },
     "metadata": {},
     "output_type": "display_data"
    },
    {
     "data": {
      "text/latex": [
       "$\\displaystyle \\Gamma^1_{33} = - r$"
      ],
      "text/plain": [
       "<IPython.core.display.Math object>"
      ]
     },
     "metadata": {},
     "output_type": "display_data"
    },
    {
     "data": {
      "text/latex": [
       "$\\displaystyle \\Gamma^2_{02} = \\frac{\\frac{d}{d t} a{\\left(t \\right)}}{a{\\left(t \\right)}}$"
      ],
      "text/plain": [
       "<IPython.core.display.Math object>"
      ]
     },
     "metadata": {},
     "output_type": "display_data"
    },
    {
     "data": {
      "text/latex": [
       "$\\displaystyle \\Gamma^2_{12} = \\frac{1}{r}$"
      ],
      "text/plain": [
       "<IPython.core.display.Math object>"
      ]
     },
     "metadata": {},
     "output_type": "display_data"
    },
    {
     "data": {
      "text/latex": [
       "$\\displaystyle \\Gamma^2_{20} = \\frac{\\frac{d}{d t} a{\\left(t \\right)}}{a{\\left(t \\right)}}$"
      ],
      "text/plain": [
       "<IPython.core.display.Math object>"
      ]
     },
     "metadata": {},
     "output_type": "display_data"
    },
    {
     "data": {
      "text/latex": [
       "$\\displaystyle \\Gamma^2_{21} = \\frac{1}{r}$"
      ],
      "text/plain": [
       "<IPython.core.display.Math object>"
      ]
     },
     "metadata": {},
     "output_type": "display_data"
    },
    {
     "data": {
      "text/latex": [
       "$\\displaystyle \\Gamma^2_{23} = \\frac{\\cos{\\left(\\phi \\right)}}{\\sin{\\left(\\phi \\right)}}$"
      ],
      "text/plain": [
       "<IPython.core.display.Math object>"
      ]
     },
     "metadata": {},
     "output_type": "display_data"
    },
    {
     "data": {
      "text/latex": [
       "$\\displaystyle \\Gamma^2_{32} = \\frac{\\cos{\\left(\\phi \\right)}}{\\sin{\\left(\\phi \\right)}}$"
      ],
      "text/plain": [
       "<IPython.core.display.Math object>"
      ]
     },
     "metadata": {},
     "output_type": "display_data"
    },
    {
     "data": {
      "text/latex": [
       "$\\displaystyle \\Gamma^3_{03} = \\frac{\\frac{d}{d t} a{\\left(t \\right)}}{a{\\left(t \\right)}}$"
      ],
      "text/plain": [
       "<IPython.core.display.Math object>"
      ]
     },
     "metadata": {},
     "output_type": "display_data"
    },
    {
     "data": {
      "text/latex": [
       "$\\displaystyle \\Gamma^3_{13} = \\frac{1}{r}$"
      ],
      "text/plain": [
       "<IPython.core.display.Math object>"
      ]
     },
     "metadata": {},
     "output_type": "display_data"
    },
    {
     "data": {
      "text/latex": [
       "$\\displaystyle \\Gamma^3_{22} = - \\sin{\\left(\\phi \\right)} \\cos{\\left(\\phi \\right)}$"
      ],
      "text/plain": [
       "<IPython.core.display.Math object>"
      ]
     },
     "metadata": {},
     "output_type": "display_data"
    },
    {
     "data": {
      "text/latex": [
       "$\\displaystyle \\Gamma^3_{30} = \\frac{\\frac{d}{d t} a{\\left(t \\right)}}{a{\\left(t \\right)}}$"
      ],
      "text/plain": [
       "<IPython.core.display.Math object>"
      ]
     },
     "metadata": {},
     "output_type": "display_data"
    },
    {
     "data": {
      "text/latex": [
       "$\\displaystyle \\Gamma^3_{31} = \\frac{1}{r}$"
      ],
      "text/plain": [
       "<IPython.core.display.Math object>"
      ]
     },
     "metadata": {},
     "output_type": "display_data"
    }
   ],
   "source": [
    "for i, j, k in product(range(4), range(4), range(4)):\n",
    "    if ch_24[i, j, k] != 0:\n",
    "        display(Math(f'\\Gamma^{i}_{{{j}{k}}} = ' + latex(ch_24[i, j, k])))"
   ]
  },
  {
   "cell_type": "markdown",
   "id": "0863edd4",
   "metadata": {},
   "source": [
    "# Riemann Tensor ($R^{\\lambda}_{\\mu\\nu\\gamma}$)"
   ]
  },
  {
   "cell_type": "code",
   "execution_count": 64,
   "id": "6e78ac1b",
   "metadata": {},
   "outputs": [
    {
     "data": {
      "text/latex": [
       "$\\displaystyle \\left[\\begin{matrix}\\left[\\begin{matrix}0 & 0 & 0 & 0\\\\0 & 0 & 0 & 0\\\\0 & 0 & 0 & 0\\\\0 & 0 & 0 & 0\\end{matrix}\\right] & \\left[\\begin{matrix}0 & a{\\left(t \\right)} \\frac{d^{2}}{d t^{2}} a{\\left(t \\right)} & 0 & 0\\\\- a{\\left(t \\right)} \\frac{d^{2}}{d t^{2}} a{\\left(t \\right)} & 0 & 0 & 0\\\\0 & 0 & 0 & 0\\\\0 & 0 & 0 & 0\\end{matrix}\\right] & \\left[\\begin{matrix}0 & 0 & r^{2} a{\\left(t \\right)} \\sin^{2}{\\left(\\phi \\right)} \\frac{d^{2}}{d t^{2}} a{\\left(t \\right)} & 0\\\\0 & 0 & 0 & 0\\\\- r^{2} a{\\left(t \\right)} \\sin^{2}{\\left(\\phi \\right)} \\frac{d^{2}}{d t^{2}} a{\\left(t \\right)} & 0 & 0 & 0\\\\0 & 0 & 0 & 0\\end{matrix}\\right] & \\left[\\begin{matrix}0 & 0 & 0 & r^{2} a{\\left(t \\right)} \\frac{d^{2}}{d t^{2}} a{\\left(t \\right)}\\\\0 & 0 & 0 & 0\\\\0 & 0 & 0 & 0\\\\- r^{2} a{\\left(t \\right)} \\frac{d^{2}}{d t^{2}} a{\\left(t \\right)} & 0 & 0 & 0\\end{matrix}\\right]\\\\\\left[\\begin{matrix}0 & \\frac{\\frac{d^{2}}{d t^{2}} a{\\left(t \\right)}}{a{\\left(t \\right)}} & 0 & 0\\\\- \\frac{\\frac{d^{2}}{d t^{2}} a{\\left(t \\right)}}{a{\\left(t \\right)}} & 0 & 0 & 0\\\\0 & 0 & 0 & 0\\\\0 & 0 & 0 & 0\\end{matrix}\\right] & \\left[\\begin{matrix}0 & 0 & 0 & 0\\\\0 & 0 & 0 & 0\\\\0 & 0 & 0 & 0\\\\0 & 0 & 0 & 0\\end{matrix}\\right] & \\left[\\begin{matrix}0 & 0 & 0 & 0\\\\0 & 0 & r^{2} \\sin^{2}{\\left(\\phi \\right)} \\left(\\frac{d}{d t} a{\\left(t \\right)}\\right)^{2} & 0\\\\0 & - r^{2} \\sin^{2}{\\left(\\phi \\right)} \\left(\\frac{d}{d t} a{\\left(t \\right)}\\right)^{2} & 0 & 0\\\\0 & 0 & 0 & 0\\end{matrix}\\right] & \\left[\\begin{matrix}0 & 0 & 0 & 0\\\\0 & 0 & 0 & r^{2} \\left(\\frac{d}{d t} a{\\left(t \\right)}\\right)^{2}\\\\0 & 0 & 0 & 0\\\\0 & - r^{2} \\left(\\frac{d}{d t} a{\\left(t \\right)}\\right)^{2} & 0 & 0\\end{matrix}\\right]\\\\\\left[\\begin{matrix}0 & 0 & \\frac{\\frac{d^{2}}{d t^{2}} a{\\left(t \\right)}}{a{\\left(t \\right)}} & 0\\\\0 & 0 & 0 & 0\\\\- \\frac{\\frac{d^{2}}{d t^{2}} a{\\left(t \\right)}}{a{\\left(t \\right)}} & 0 & 0 & 0\\\\0 & 0 & 0 & 0\\end{matrix}\\right] & \\left[\\begin{matrix}0 & 0 & 0 & 0\\\\0 & 0 & - \\left(\\frac{d}{d t} a{\\left(t \\right)}\\right)^{2} & 0\\\\0 & \\left(\\frac{d}{d t} a{\\left(t \\right)}\\right)^{2} & 0 & 0\\\\0 & 0 & 0 & 0\\end{matrix}\\right] & \\left[\\begin{matrix}0 & 0 & 0 & 0\\\\0 & 0 & 0 & 0\\\\0 & 0 & 0 & 0\\\\0 & 0 & 0 & 0\\end{matrix}\\right] & \\left[\\begin{matrix}0 & 0 & 0 & 0\\\\0 & 0 & 0 & 0\\\\0 & 0 & 0 & r^{2} \\left(\\frac{d}{d t} a{\\left(t \\right)}\\right)^{2}\\\\0 & 0 & - r^{2} \\left(\\frac{d}{d t} a{\\left(t \\right)}\\right)^{2} & 0\\end{matrix}\\right]\\\\\\left[\\begin{matrix}0 & 0 & 0 & \\frac{\\frac{d^{2}}{d t^{2}} a{\\left(t \\right)}}{a{\\left(t \\right)}}\\\\0 & 0 & 0 & 0\\\\0 & 0 & 0 & 0\\\\- \\frac{\\frac{d^{2}}{d t^{2}} a{\\left(t \\right)}}{a{\\left(t \\right)}} & 0 & 0 & 0\\end{matrix}\\right] & \\left[\\begin{matrix}0 & 0 & 0 & 0\\\\0 & 0 & 0 & - \\left(\\frac{d}{d t} a{\\left(t \\right)}\\right)^{2}\\\\0 & 0 & 0 & 0\\\\0 & \\left(\\frac{d}{d t} a{\\left(t \\right)}\\right)^{2} & 0 & 0\\end{matrix}\\right] & \\left[\\begin{matrix}0 & 0 & 0 & 0\\\\0 & 0 & 0 & 0\\\\0 & 0 & 0 & - r^{2} \\sin^{2}{\\left(\\phi \\right)} \\left(\\frac{d}{d t} a{\\left(t \\right)}\\right)^{2}\\\\0 & 0 & r^{2} \\sin^{2}{\\left(\\phi \\right)} \\left(\\frac{d}{d t} a{\\left(t \\right)}\\right)^{2} & 0\\end{matrix}\\right] & \\left[\\begin{matrix}0 & 0 & 0 & 0\\\\0 & 0 & 0 & 0\\\\0 & 0 & 0 & 0\\\\0 & 0 & 0 & 0\\end{matrix}\\right]\\end{matrix}\\right]$"
      ],
      "text/plain": [
       "⎡                                ⎡                        2            ⎤  ⎡   \n",
       "⎢                                ⎢                       d             ⎥  ⎢   \n",
       "⎢                                ⎢       0         a(t)⋅───(a(t))  0  0⎥  ⎢   \n",
       "⎢                                ⎢                        2            ⎥  ⎢   \n",
       "⎢         ⎡0  0  0  0⎤           ⎢                      dt             ⎥  ⎢   \n",
       "⎢         ⎢          ⎥           ⎢                                     ⎥  ⎢   \n",
       "⎢         ⎢0  0  0  0⎥           ⎢        2                            ⎥  ⎢   \n",
       "⎢         ⎢          ⎥           ⎢       d                             ⎥  ⎢   \n",
       "⎢         ⎢0  0  0  0⎥           ⎢-a(t)⋅───(a(t))        0         0  0⎥  ⎢   \n",
       "⎢         ⎢          ⎥           ⎢        2                            ⎥  ⎢  2\n",
       "⎢         ⎣0  0  0  0⎦           ⎢      dt                             ⎥  ⎢-r \n",
       "⎢                                ⎢                                     ⎥  ⎢   \n",
       "⎢                                ⎢       0               0         0  0⎥  ⎢   \n",
       "⎢                                ⎢                                     ⎥  ⎢   \n",
       "⎢                                ⎣       0               0         0  0⎦  ⎣   \n",
       "⎢                                                                             \n",
       "⎢⎡               2            ⎤                                               \n",
       "⎢⎢              d             ⎥                                               \n",
       "⎢⎢             ───(a(t))      ⎥                                               \n",
       "⎢⎢               2            ⎥                                              ⎡\n",
       "⎢⎢             dt             ⎥                                              ⎢\n",
       "⎢⎢     0       ─────────  0  0⎥                                              ⎢\n",
       "⎢⎢                a(t)        ⎥               ⎡0  0  0  0⎤                   ⎢\n",
       "⎢⎢                            ⎥               ⎢          ⎥                   ⎢\n",
       "⎢⎢   2                        ⎥               ⎢0  0  0  0⎥                   ⎢\n",
       "⎢⎢  d                         ⎥               ⎢          ⎥                   ⎢\n",
       "⎢⎢-───(a(t))                  ⎥               ⎢0  0  0  0⎥                   ⎢\n",
       "⎢⎢   2                        ⎥               ⎢          ⎥                   ⎢\n",
       "⎢⎢ dt                         ⎥               ⎣0  0  0  0⎦                   ⎢\n",
       "⎢⎢───────────      0      0  0⎥                                              ⎢\n",
       "⎢⎢    a(t)                    ⎥                                              ⎢\n",
       "⎢⎢                            ⎥                                              ⎣\n",
       "⎢⎢     0           0      0  0⎥                                               \n",
       "⎢⎢                            ⎥                                               \n",
       "⎢⎣     0           0      0  0⎦                                               \n",
       "⎢                                                                             \n",
       "⎢⎡                  2         ⎤                                               \n",
       "⎢⎢                 d          ⎥                                               \n",
       "⎢⎢                ───(a(t))   ⎥                                               \n",
       "⎢⎢                  2         ⎥     ⎡0       0            0        0⎤         \n",
       "⎢⎢                dt          ⎥     ⎢                               ⎥         \n",
       "⎢⎢     0       0  ─────────  0⎥     ⎢                           2   ⎥         \n",
       "⎢⎢                   a(t)     ⎥     ⎢                 ⎛d       ⎞    ⎥         \n",
       "⎢⎢                            ⎥     ⎢0       0       -⎜──(a(t))⎟   0⎥         \n",
       "⎢⎢     0       0      0      0⎥     ⎢                 ⎝dt      ⎠    ⎥         \n",
       "⎢⎢                            ⎥     ⎢                               ⎥         \n",
       "⎢⎢   2                        ⎥     ⎢             2                 ⎥         \n",
       "⎢⎢  d                         ⎥     ⎢   ⎛d       ⎞                  ⎥         \n",
       "⎢⎢-───(a(t))                  ⎥     ⎢0  ⎜──(a(t))⎟        0        0⎥         \n",
       "⎢⎢   2                        ⎥     ⎢   ⎝dt      ⎠                  ⎥         \n",
       "⎢⎢ dt                         ⎥     ⎢                               ⎥         \n",
       "⎢⎢───────────  0      0      0⎥     ⎣0       0            0        0⎦         \n",
       "⎢⎢    a(t)                    ⎥                                               \n",
       "⎢⎢                            ⎥                                               \n",
       "⎢⎣     0       0      0      0⎦                                               \n",
       "⎢                                                                             \n",
       "⎢⎡                     2      ⎤                                               \n",
       "⎢⎢                    d       ⎥                                               \n",
       "⎢⎢                   ───(a(t))⎥                                               \n",
       "⎢⎢                     2      ⎥     ⎡0       0       0       0      ⎤        ⎡\n",
       "⎢⎢                   dt       ⎥     ⎢                               ⎥        ⎢\n",
       "⎢⎢     0       0  0  ─────────⎥     ⎢                              2⎥        ⎢\n",
       "⎢⎢                      a(t)  ⎥     ⎢                    ⎛d       ⎞ ⎥        ⎢\n",
       "⎢⎢                            ⎥     ⎢0       0       0  -⎜──(a(t))⎟ ⎥        ⎢\n",
       "⎢⎢     0       0  0      0    ⎥     ⎢                    ⎝dt      ⎠ ⎥        ⎢\n",
       "⎢⎢                            ⎥     ⎢                               ⎥        ⎢\n",
       "⎢⎢     0       0  0      0    ⎥     ⎢0       0       0       0      ⎥        ⎢\n",
       "⎢⎢                            ⎥     ⎢                               ⎥        ⎢\n",
       "⎢⎢   2                        ⎥     ⎢             2                 ⎥        ⎢\n",
       "⎢⎢  d                         ⎥     ⎢   ⎛d       ⎞                  ⎥        ⎢\n",
       "⎢⎢-───(a(t))                  ⎥     ⎢0  ⎜──(a(t))⎟   0       0      ⎥        ⎢\n",
       "⎢⎢   2                        ⎥     ⎣   ⎝dt      ⎠                  ⎦        ⎣\n",
       "⎢⎢ dt                         ⎥                                               \n",
       "⎢⎢───────────  0  0      0    ⎥                                               \n",
       "⎣⎣    a(t)                    ⎦                                               \n",
       "\n",
       "                                              2         ⎤  ⎡                  \n",
       "                             2         2     d          ⎥  ⎢                  \n",
       "         0               0  r ⋅a(t)⋅sin (φ)⋅───(a(t))  0⎥  ⎢        0         \n",
       "                                              2         ⎥  ⎢                  \n",
       "                                            dt          ⎥  ⎢                  \n",
       "                                                        ⎥  ⎢                  \n",
       "         0               0              0              0⎥  ⎢        0         \n",
       "                                                        ⎥  ⎢                  \n",
       "                2                                       ⎥  ⎢        0         \n",
       "         2     d                                        ⎥  ⎢                  \n",
       "⋅a(t)⋅sin (φ)⋅───(a(t))  0              0              0⎥  ⎢           2      \n",
       "                2                                       ⎥  ⎢  2       d       \n",
       "              dt                                        ⎥  ⎢-r ⋅a(t)⋅───(a(t))\n",
       "                                                        ⎥  ⎢           2      \n",
       "         0               0              0              0⎦  ⎣         dt       \n",
       "                                                                              \n",
       "                                                                              \n",
       "                                                                              \n",
       "                                                                              \n",
       "0             0                       0             0⎤        ⎡0         0    \n",
       "                                                     ⎥        ⎢               \n",
       "                                                 2   ⎥        ⎢               \n",
       "                             2    2    ⎛d       ⎞    ⎥        ⎢               \n",
       "0             0             r ⋅sin (φ)⋅⎜──(a(t))⎟   0⎥        ⎢0         0    \n",
       "                                       ⎝dt      ⎠    ⎥        ⎢               \n",
       "                                                     ⎥        ⎢               \n",
       "                         2                           ⎥        ⎢0         0    \n",
       "     2    2    ⎛d       ⎞                            ⎥        ⎢               \n",
       "0  -r ⋅sin (φ)⋅⎜──(a(t))⎟             0             0⎥        ⎢               \n",
       "               ⎝dt      ⎠                            ⎥        ⎢     2 ⎛d      \n",
       "                                                     ⎥        ⎢0  -r ⋅⎜──(a(t)\n",
       "0             0                       0             0⎦        ⎣       ⎝dt     \n",
       "                                                                              \n",
       "                                                                              \n",
       "                                                                              \n",
       "                                                                              \n",
       "                                                                              \n",
       "                                                                              \n",
       "                                                                              \n",
       "                                                              ⎡0  0         0 \n",
       "                                                              ⎢               \n",
       "                                                              ⎢0  0         0 \n",
       "                    ⎡0  0  0  0⎤                              ⎢               \n",
       "                    ⎢          ⎥                              ⎢               \n",
       "                    ⎢0  0  0  0⎥                              ⎢               \n",
       "                    ⎢          ⎥                              ⎢0  0         0 \n",
       "                    ⎢0  0  0  0⎥                              ⎢               \n",
       "                    ⎢          ⎥                              ⎢               \n",
       "                    ⎣0  0  0  0⎦                              ⎢               \n",
       "                                                              ⎢        2 ⎛d   \n",
       "                                                              ⎢0  0  -r ⋅⎜──(a\n",
       "                                                              ⎣          ⎝dt  \n",
       "                                                                              \n",
       "                                                                              \n",
       "                                                                              \n",
       "                                                                              \n",
       "                                                                              \n",
       "                                                                              \n",
       "                                                                              \n",
       "0  0            0                        0           ⎤                        \n",
       "                                                     ⎥                        \n",
       "0  0            0                        0           ⎥                        \n",
       "                                                     ⎥                     ⎡0 \n",
       "                                                    2⎥                     ⎢  \n",
       "                                2    2    ⎛d       ⎞ ⎥                     ⎢0 \n",
       "0  0            0             -r ⋅sin (φ)⋅⎜──(a(t))⎟ ⎥                     ⎢  \n",
       "                                          ⎝dt      ⎠ ⎥                     ⎢0 \n",
       "                                                     ⎥                     ⎢  \n",
       "                           2                         ⎥                     ⎣0 \n",
       "       2    2    ⎛d       ⎞                          ⎥                        \n",
       "0  0  r ⋅sin (φ)⋅⎜──(a(t))⎟              0           ⎥                        \n",
       "                 ⎝dt      ⎠                          ⎦                        \n",
       "                                                                              \n",
       "                                                                              \n",
       "                                                                              \n",
       "\n",
       "                  2      ⎤⎤\n",
       "         2       d       ⎥⎥\n",
       "  0  0  r ⋅a(t)⋅───(a(t))⎥⎥\n",
       "                  2      ⎥⎥\n",
       "                dt       ⎥⎥\n",
       "                         ⎥⎥\n",
       "  0  0          0        ⎥⎥\n",
       "                         ⎥⎥\n",
       "  0  0          0        ⎥⎥\n",
       "                         ⎥⎥\n",
       "                         ⎥⎥\n",
       "                         ⎥⎥\n",
       "  0  0          0        ⎥⎥\n",
       "                         ⎥⎥\n",
       "                         ⎦⎥\n",
       "                          ⎥\n",
       "                          ⎥\n",
       "                          ⎥\n",
       "                          ⎥\n",
       "     0        0       ⎤   ⎥\n",
       "                      ⎥   ⎥\n",
       "                     2⎥   ⎥\n",
       "         2 ⎛d       ⎞ ⎥   ⎥\n",
       "     0  r ⋅⎜──(a(t))⎟ ⎥   ⎥\n",
       "           ⎝dt      ⎠ ⎥   ⎥\n",
       "                      ⎥   ⎥\n",
       "     0        0       ⎥   ⎥\n",
       "                      ⎥   ⎥\n",
       "  2                   ⎥   ⎥\n",
       " ⎞                    ⎥   ⎥\n",
       ")⎟   0        0       ⎥   ⎥\n",
       " ⎠                    ⎦   ⎥\n",
       "                          ⎥\n",
       "                          ⎥\n",
       "                          ⎥\n",
       "                          ⎥\n",
       "                          ⎥\n",
       "                          ⎥\n",
       "                          ⎥\n",
       "              0       ⎤   ⎥\n",
       "                      ⎥   ⎥\n",
       "              0       ⎥   ⎥\n",
       "                      ⎥   ⎥\n",
       "                     2⎥   ⎥\n",
       "         2 ⎛d       ⎞ ⎥   ⎥\n",
       "        r ⋅⎜──(a(t))⎟ ⎥   ⎥\n",
       "           ⎝dt      ⎠ ⎥   ⎥\n",
       "                      ⎥   ⎥\n",
       "     2                ⎥   ⎥\n",
       "    ⎞                 ⎥   ⎥\n",
       "(t))⎟         0       ⎥   ⎥\n",
       "    ⎠                 ⎦   ⎥\n",
       "                          ⎥\n",
       "                          ⎥\n",
       "                          ⎥\n",
       "                          ⎥\n",
       "                          ⎥\n",
       "                          ⎥\n",
       "                          ⎥\n",
       "                          ⎥\n",
       "                          ⎥\n",
       "                          ⎥\n",
       " 0  0  0⎤                 ⎥\n",
       "        ⎥                 ⎥\n",
       " 0  0  0⎥                 ⎥\n",
       "        ⎥                 ⎥\n",
       " 0  0  0⎥                 ⎥\n",
       "        ⎥                 ⎥\n",
       " 0  0  0⎦                 ⎥\n",
       "                          ⎥\n",
       "                          ⎥\n",
       "                          ⎥\n",
       "                          ⎥\n",
       "                          ⎥\n",
       "                          ⎦"
      ]
     },
     "execution_count": 64,
     "metadata": {},
     "output_type": "execute_result"
    }
   ],
   "source": [
    "# Calculating Riemann Tensor from Christoffel Symbols\n",
    "rm_24 = RiemannCurvatureTensor.from_metric(metric_24)\n",
    "rm_24.tensor()"
   ]
  },
  {
   "cell_type": "code",
   "execution_count": 65,
   "id": "35f7c9a2-ff63-4f9c-b9e8-b372dca5236c",
   "metadata": {},
   "outputs": [
    {
     "data": {
      "text/latex": [
       "$\\displaystyle R^0_{101} = a{\\left(t \\right)} \\frac{d^{2}}{d t^{2}} a{\\left(t \\right)}$"
      ],
      "text/plain": [
       "<IPython.core.display.Math object>"
      ]
     },
     "metadata": {},
     "output_type": "display_data"
    },
    {
     "data": {
      "text/latex": [
       "$\\displaystyle R^0_{110} = - a{\\left(t \\right)} \\frac{d^{2}}{d t^{2}} a{\\left(t \\right)}$"
      ],
      "text/plain": [
       "<IPython.core.display.Math object>"
      ]
     },
     "metadata": {},
     "output_type": "display_data"
    },
    {
     "data": {
      "text/latex": [
       "$\\displaystyle R^0_{202} = r^{2} a{\\left(t \\right)} \\sin^{2}{\\left(\\phi \\right)} \\frac{d^{2}}{d t^{2}} a{\\left(t \\right)}$"
      ],
      "text/plain": [
       "<IPython.core.display.Math object>"
      ]
     },
     "metadata": {},
     "output_type": "display_data"
    },
    {
     "data": {
      "text/latex": [
       "$\\displaystyle R^0_{220} = - r^{2} a{\\left(t \\right)} \\sin^{2}{\\left(\\phi \\right)} \\frac{d^{2}}{d t^{2}} a{\\left(t \\right)}$"
      ],
      "text/plain": [
       "<IPython.core.display.Math object>"
      ]
     },
     "metadata": {},
     "output_type": "display_data"
    },
    {
     "data": {
      "text/latex": [
       "$\\displaystyle R^0_{303} = r^{2} a{\\left(t \\right)} \\frac{d^{2}}{d t^{2}} a{\\left(t \\right)}$"
      ],
      "text/plain": [
       "<IPython.core.display.Math object>"
      ]
     },
     "metadata": {},
     "output_type": "display_data"
    },
    {
     "data": {
      "text/latex": [
       "$\\displaystyle R^0_{330} = - r^{2} a{\\left(t \\right)} \\frac{d^{2}}{d t^{2}} a{\\left(t \\right)}$"
      ],
      "text/plain": [
       "<IPython.core.display.Math object>"
      ]
     },
     "metadata": {},
     "output_type": "display_data"
    },
    {
     "data": {
      "text/latex": [
       "$\\displaystyle R^1_{001} = \\frac{\\frac{d^{2}}{d t^{2}} a{\\left(t \\right)}}{a{\\left(t \\right)}}$"
      ],
      "text/plain": [
       "<IPython.core.display.Math object>"
      ]
     },
     "metadata": {},
     "output_type": "display_data"
    },
    {
     "data": {
      "text/latex": [
       "$\\displaystyle R^1_{010} = - \\frac{\\frac{d^{2}}{d t^{2}} a{\\left(t \\right)}}{a{\\left(t \\right)}}$"
      ],
      "text/plain": [
       "<IPython.core.display.Math object>"
      ]
     },
     "metadata": {},
     "output_type": "display_data"
    },
    {
     "data": {
      "text/latex": [
       "$\\displaystyle R^1_{212} = r^{2} \\sin^{2}{\\left(\\phi \\right)} \\left(\\frac{d}{d t} a{\\left(t \\right)}\\right)^{2}$"
      ],
      "text/plain": [
       "<IPython.core.display.Math object>"
      ]
     },
     "metadata": {},
     "output_type": "display_data"
    },
    {
     "data": {
      "text/latex": [
       "$\\displaystyle R^1_{221} = - r^{2} \\sin^{2}{\\left(\\phi \\right)} \\left(\\frac{d}{d t} a{\\left(t \\right)}\\right)^{2}$"
      ],
      "text/plain": [
       "<IPython.core.display.Math object>"
      ]
     },
     "metadata": {},
     "output_type": "display_data"
    },
    {
     "data": {
      "text/latex": [
       "$\\displaystyle R^1_{313} = r^{2} \\left(\\frac{d}{d t} a{\\left(t \\right)}\\right)^{2}$"
      ],
      "text/plain": [
       "<IPython.core.display.Math object>"
      ]
     },
     "metadata": {},
     "output_type": "display_data"
    },
    {
     "data": {
      "text/latex": [
       "$\\displaystyle R^1_{331} = - r^{2} \\left(\\frac{d}{d t} a{\\left(t \\right)}\\right)^{2}$"
      ],
      "text/plain": [
       "<IPython.core.display.Math object>"
      ]
     },
     "metadata": {},
     "output_type": "display_data"
    },
    {
     "data": {
      "text/latex": [
       "$\\displaystyle R^2_{002} = \\frac{\\frac{d^{2}}{d t^{2}} a{\\left(t \\right)}}{a{\\left(t \\right)}}$"
      ],
      "text/plain": [
       "<IPython.core.display.Math object>"
      ]
     },
     "metadata": {},
     "output_type": "display_data"
    },
    {
     "data": {
      "text/latex": [
       "$\\displaystyle R^2_{020} = - \\frac{\\frac{d^{2}}{d t^{2}} a{\\left(t \\right)}}{a{\\left(t \\right)}}$"
      ],
      "text/plain": [
       "<IPython.core.display.Math object>"
      ]
     },
     "metadata": {},
     "output_type": "display_data"
    },
    {
     "data": {
      "text/latex": [
       "$\\displaystyle R^2_{112} = - \\left(\\frac{d}{d t} a{\\left(t \\right)}\\right)^{2}$"
      ],
      "text/plain": [
       "<IPython.core.display.Math object>"
      ]
     },
     "metadata": {},
     "output_type": "display_data"
    },
    {
     "data": {
      "text/latex": [
       "$\\displaystyle R^2_{121} = \\left(\\frac{d}{d t} a{\\left(t \\right)}\\right)^{2}$"
      ],
      "text/plain": [
       "<IPython.core.display.Math object>"
      ]
     },
     "metadata": {},
     "output_type": "display_data"
    },
    {
     "data": {
      "text/latex": [
       "$\\displaystyle R^2_{323} = r^{2} \\left(\\frac{d}{d t} a{\\left(t \\right)}\\right)^{2}$"
      ],
      "text/plain": [
       "<IPython.core.display.Math object>"
      ]
     },
     "metadata": {},
     "output_type": "display_data"
    },
    {
     "data": {
      "text/latex": [
       "$\\displaystyle R^2_{332} = - r^{2} \\left(\\frac{d}{d t} a{\\left(t \\right)}\\right)^{2}$"
      ],
      "text/plain": [
       "<IPython.core.display.Math object>"
      ]
     },
     "metadata": {},
     "output_type": "display_data"
    },
    {
     "data": {
      "text/latex": [
       "$\\displaystyle R^3_{003} = \\frac{\\frac{d^{2}}{d t^{2}} a{\\left(t \\right)}}{a{\\left(t \\right)}}$"
      ],
      "text/plain": [
       "<IPython.core.display.Math object>"
      ]
     },
     "metadata": {},
     "output_type": "display_data"
    },
    {
     "data": {
      "text/latex": [
       "$\\displaystyle R^3_{030} = - \\frac{\\frac{d^{2}}{d t^{2}} a{\\left(t \\right)}}{a{\\left(t \\right)}}$"
      ],
      "text/plain": [
       "<IPython.core.display.Math object>"
      ]
     },
     "metadata": {},
     "output_type": "display_data"
    },
    {
     "data": {
      "text/latex": [
       "$\\displaystyle R^3_{113} = - \\left(\\frac{d}{d t} a{\\left(t \\right)}\\right)^{2}$"
      ],
      "text/plain": [
       "<IPython.core.display.Math object>"
      ]
     },
     "metadata": {},
     "output_type": "display_data"
    },
    {
     "data": {
      "text/latex": [
       "$\\displaystyle R^3_{131} = \\left(\\frac{d}{d t} a{\\left(t \\right)}\\right)^{2}$"
      ],
      "text/plain": [
       "<IPython.core.display.Math object>"
      ]
     },
     "metadata": {},
     "output_type": "display_data"
    },
    {
     "data": {
      "text/latex": [
       "$\\displaystyle R^3_{223} = - r^{2} \\sin^{2}{\\left(\\phi \\right)} \\left(\\frac{d}{d t} a{\\left(t \\right)}\\right)^{2}$"
      ],
      "text/plain": [
       "<IPython.core.display.Math object>"
      ]
     },
     "metadata": {},
     "output_type": "display_data"
    },
    {
     "data": {
      "text/latex": [
       "$\\displaystyle R^3_{232} = r^{2} \\sin^{2}{\\left(\\phi \\right)} \\left(\\frac{d}{d t} a{\\left(t \\right)}\\right)^{2}$"
      ],
      "text/plain": [
       "<IPython.core.display.Math object>"
      ]
     },
     "metadata": {},
     "output_type": "display_data"
    }
   ],
   "source": [
    "for i, j, k, p in product(range(4), range(4), range(4),range(4)):\n",
    "    if rm_24[i, j, k, p] != 0:\n",
    "        display(Math(f'R^{i}_{{{j}{k}{p}}} = ' + latex(rm_24[i, j, k,p])))"
   ]
  },
  {
   "cell_type": "markdown",
   "id": "465c9a1e",
   "metadata": {},
   "source": [
    "# Ricci Tensor ($R_{\\mu\\nu}$)  "
   ]
  },
  {
   "cell_type": "code",
   "execution_count": 66,
   "id": "b9ec5778",
   "metadata": {},
   "outputs": [
    {
     "data": {
      "text/latex": [
       "$\\displaystyle \\left[\\begin{matrix}- \\frac{3 \\frac{d^{2}}{d t^{2}} a{\\left(t \\right)}}{a{\\left(t \\right)}} & 0 & 0 & 0\\\\0 & a{\\left(t \\right)} \\frac{d^{2}}{d t^{2}} a{\\left(t \\right)} + 2 \\left(\\frac{d}{d t} a{\\left(t \\right)}\\right)^{2} & 0 & 0\\\\0 & 0 & r^{2} \\left(a{\\left(t \\right)} \\frac{d^{2}}{d t^{2}} a{\\left(t \\right)} + 2 \\left(\\frac{d}{d t} a{\\left(t \\right)}\\right)^{2}\\right) \\sin^{2}{\\left(\\phi \\right)} & 0\\\\0 & 0 & 0 & r^{2} \\left(a{\\left(t \\right)} \\frac{d^{2}}{d t^{2}} a{\\left(t \\right)} + 2 \\left(\\frac{d}{d t} a{\\left(t \\right)}\\right)^{2}\\right)\\end{matrix}\\right]$"
      ],
      "text/plain": [
       "⎡     2                                                                       \n",
       "⎢    d                                                                        \n",
       "⎢-3⋅───(a(t))                                                                 \n",
       "⎢     2                                                                       \n",
       "⎢   dt                                                                        \n",
       "⎢─────────────                0                                      0        \n",
       "⎢     a(t)                                                                    \n",
       "⎢                                                                             \n",
       "⎢                      2                     2                                \n",
       "⎢                     d            ⎛d       ⎞                                 \n",
       "⎢      0        a(t)⋅───(a(t)) + 2⋅⎜──(a(t))⎟                        0        \n",
       "⎢                      2           ⎝dt      ⎠                                 \n",
       "⎢                    dt                                                       \n",
       "⎢                                                                             \n",
       "⎢                                                  ⎛       2                  \n",
       "⎢                                                2 ⎜      d            ⎛d     \n",
       "⎢      0                      0                 r ⋅⎜a(t)⋅───(a(t)) + 2⋅⎜──(a(t\n",
       "⎢                                                  ⎜       2           ⎝dt    \n",
       "⎢                                                  ⎝     dt                   \n",
       "⎢                                                                             \n",
       "⎢                                                                             \n",
       "⎢                                                                             \n",
       "⎢      0                      0                                      0        \n",
       "⎢                                                                             \n",
       "⎣                                                                             \n",
       "\n",
       "                                                  ⎤\n",
       "                                                  ⎥\n",
       "                                                  ⎥\n",
       "                                                  ⎥\n",
       "                                                  ⎥\n",
       "                                0                 ⎥\n",
       "                                                  ⎥\n",
       "                                                  ⎥\n",
       "                                                  ⎥\n",
       "                                                  ⎥\n",
       "                                0                 ⎥\n",
       "                                                  ⎥\n",
       "                                                  ⎥\n",
       "                                                  ⎥\n",
       "   2⎞                                             ⎥\n",
       "  ⎞ ⎟    2                                        ⎥\n",
       "))⎟ ⎟⋅sin (φ)                   0                 ⎥\n",
       "  ⎠ ⎟                                             ⎥\n",
       "    ⎠                                             ⎥\n",
       "                                                  ⎥\n",
       "                  ⎛       2                     2⎞⎥\n",
       "                2 ⎜      d            ⎛d       ⎞ ⎟⎥\n",
       "               r ⋅⎜a(t)⋅───(a(t)) + 2⋅⎜──(a(t))⎟ ⎟⎥\n",
       "                  ⎜       2           ⎝dt      ⎠ ⎟⎥\n",
       "                  ⎝     dt                       ⎠⎦"
      ]
     },
     "execution_count": 66,
     "metadata": {},
     "output_type": "execute_result"
    }
   ],
   "source": [
    "R_tensor_24 = RicciTensor.from_metric(metric_24)\n",
    "R_tensor_24.tensor()"
   ]
  },
  {
   "cell_type": "code",
   "execution_count": 67,
   "id": "e4de6b44-8d6d-4883-91d8-3a1439a7939c",
   "metadata": {},
   "outputs": [
    {
     "data": {
      "text/latex": [
       "$\\displaystyle R_{00} = - \\frac{3 \\frac{d^{2}}{d t^{2}} a{\\left(t \\right)}}{a{\\left(t \\right)}}$"
      ],
      "text/plain": [
       "<IPython.core.display.Math object>"
      ]
     },
     "metadata": {},
     "output_type": "display_data"
    },
    {
     "data": {
      "text/latex": [
       "$\\displaystyle R_{11} = a{\\left(t \\right)} \\frac{d^{2}}{d t^{2}} a{\\left(t \\right)} + 2 \\left(\\frac{d}{d t} a{\\left(t \\right)}\\right)^{2}$"
      ],
      "text/plain": [
       "<IPython.core.display.Math object>"
      ]
     },
     "metadata": {},
     "output_type": "display_data"
    },
    {
     "data": {
      "text/latex": [
       "$\\displaystyle R_{22} = r^{2} \\left(a{\\left(t \\right)} \\frac{d^{2}}{d t^{2}} a{\\left(t \\right)} + 2 \\left(\\frac{d}{d t} a{\\left(t \\right)}\\right)^{2}\\right) \\sin^{2}{\\left(\\phi \\right)}$"
      ],
      "text/plain": [
       "<IPython.core.display.Math object>"
      ]
     },
     "metadata": {},
     "output_type": "display_data"
    },
    {
     "data": {
      "text/latex": [
       "$\\displaystyle R_{33} = r^{2} \\left(a{\\left(t \\right)} \\frac{d^{2}}{d t^{2}} a{\\left(t \\right)} + 2 \\left(\\frac{d}{d t} a{\\left(t \\right)}\\right)^{2}\\right)$"
      ],
      "text/plain": [
       "<IPython.core.display.Math object>"
      ]
     },
     "metadata": {},
     "output_type": "display_data"
    }
   ],
   "source": [
    "for i, j in product(range(4), range(4)):\n",
    "    if R_tensor_24[i, j] != 0:\n",
    "        display(Math(f'R_{{{i}{j}}} = ' + latex(R_tensor_24[i, j])))"
   ]
  },
  {
   "cell_type": "markdown",
   "id": "e752e641",
   "metadata": {},
   "source": [
    "# Ricci Scalar ($R$)"
   ]
  },
  {
   "cell_type": "code",
   "execution_count": 68,
   "id": "2c4b0d68",
   "metadata": {},
   "outputs": [
    {
     "data": {
      "image/png": "[encoded data removed]",
      "text/latex": [
       "$\\displaystyle \\frac{6 \\left(a{\\left(t \\right)} \\frac{d^{2}}{d t^{2}} a{\\left(t \\right)} + \\left(\\frac{d}{d t} a{\\left(t \\right)}\\right)^{2}\\right)}{a^{2}{\\left(t \\right)}}$"
      ],
      "text/plain": [
       "  ⎛       2                   2⎞\n",
       "  ⎜      d          ⎛d       ⎞ ⎟\n",
       "6⋅⎜a(t)⋅───(a(t)) + ⎜──(a(t))⎟ ⎟\n",
       "  ⎜       2         ⎝dt      ⎠ ⎟\n",
       "  ⎝     dt                     ⎠\n",
       "────────────────────────────────\n",
       "              2                 \n",
       "             a (t)              "
      ]
     },
     "execution_count": 68,
     "metadata": {},
     "output_type": "execute_result"
    }
   ],
   "source": [
    "R_scalar_24 = RicciScalar.from_metric(metric_24)\n",
    "R_scalar_24.simplify()\n",
    "R_scalar_24.expr"
   ]
  },
  {
   "cell_type": "markdown",
   "id": "bf709fde",
   "metadata": {},
   "source": [
    "# EinsteinTensor ($G_{\\mu\\nu}$)"
   ]
  },
  {
   "cell_type": "code",
   "execution_count": 69,
   "id": "4072bf14",
   "metadata": {},
   "outputs": [
    {
     "data": {
      "text/latex": [
       "$\\displaystyle \\left[\\begin{matrix}\\frac{3.0 \\left(a{\\left(t \\right)} \\frac{d^{2}}{d t^{2}} a{\\left(t \\right)} + \\left(\\frac{d}{d t} a{\\left(t \\right)}\\right)^{2}\\right)}{a^{2}{\\left(t \\right)}} - \\frac{3 \\frac{d^{2}}{d t^{2}} a{\\left(t \\right)}}{a{\\left(t \\right)}} & 0 & 0 & 0\\\\0 & - 2.0 a{\\left(t \\right)} \\frac{d^{2}}{d t^{2}} a{\\left(t \\right)} - 1.0 \\left(\\frac{d}{d t} a{\\left(t \\right)}\\right)^{2} & 0 & 0\\\\0 & 0 & - 3.0 r^{2} \\left(a{\\left(t \\right)} \\frac{d^{2}}{d t^{2}} a{\\left(t \\right)} + \\left(\\frac{d}{d t} a{\\left(t \\right)}\\right)^{2}\\right) \\sin^{2}{\\left(\\phi \\right)} + r^{2} \\left(a{\\left(t \\right)} \\frac{d^{2}}{d t^{2}} a{\\left(t \\right)} + 2 \\left(\\frac{d}{d t} a{\\left(t \\right)}\\right)^{2}\\right) \\sin^{2}{\\left(\\phi \\right)} & 0\\\\0 & 0 & 0 & - 3.0 r^{2} \\left(a{\\left(t \\right)} \\frac{d^{2}}{d t^{2}} a{\\left(t \\right)} + \\left(\\frac{d}{d t} a{\\left(t \\right)}\\right)^{2}\\right) + r^{2} \\left(a{\\left(t \\right)} \\frac{d^{2}}{d t^{2}} a{\\left(t \\right)} + 2 \\left(\\frac{d}{d t} a{\\left(t \\right)}\\right)^{2}\\right)\\end{matrix}\\right]$"
      ],
      "text/plain": [
       "⎡    ⎛       2                   2⎞       2                                   \n",
       "⎢    ⎜      d          ⎛d       ⎞ ⎟      d                                    \n",
       "⎢3.0⋅⎜a(t)⋅───(a(t)) + ⎜──(a(t))⎟ ⎟   3⋅───(a(t))                             \n",
       "⎢    ⎜       2         ⎝dt      ⎠ ⎟       2                                   \n",
       "⎢    ⎝     dt                     ⎠     dt                                    \n",
       "⎢────────────────────────────────── - ───────────                  0          \n",
       "⎢               2                         a(t)                                \n",
       "⎢              a (t)                                                          \n",
       "⎢                                                                             \n",
       "⎢                                                               2             \n",
       "⎢                                                              d          ⎛d  \n",
       "⎢                       0                          - 2.0⋅a(t)⋅───(a(t)) - ⎜──(\n",
       "⎢                                                               2         ⎝dt \n",
       "⎢                                                             dt              \n",
       "⎢                                                                             \n",
       "⎢                                                                             \n",
       "⎢                                                                             \n",
       "⎢                       0                                          0          \n",
       "⎢                                                                             \n",
       "⎢                                                                             \n",
       "⎢                                                                             \n",
       "⎢                                                                             \n",
       "⎢                                                                             \n",
       "⎢                       0                                          0          \n",
       "⎢                                                                             \n",
       "⎣                                                                             \n",
       "\n",
       "                                                                              \n",
       "                                                                              \n",
       "                                                                              \n",
       "                                                                              \n",
       "                                                                              \n",
       "                                                       0                      \n",
       "                                                                              \n",
       "                                                                              \n",
       "                                                                              \n",
       "      2                                                                       \n",
       "     ⎞                                                                        \n",
       "a(t))⎟                                                 0                      \n",
       "     ⎠                                                                        \n",
       "                                                                              \n",
       "                                                                              \n",
       "                  ⎛       2                   2⎞              ⎛       2       \n",
       "                2 ⎜      d          ⎛d       ⎞ ⎟    2       2 ⎜      d        \n",
       "         - 3.0⋅r ⋅⎜a(t)⋅───(a(t)) + ⎜──(a(t))⎟ ⎟⋅sin (φ) + r ⋅⎜a(t)⋅───(a(t)) \n",
       "                  ⎜       2         ⎝dt      ⎠ ⎟              ⎜       2       \n",
       "                  ⎝     dt                     ⎠              ⎝     dt        \n",
       "                                                                              \n",
       "                                                                              \n",
       "                                                                              \n",
       "                                                       0                      \n",
       "                                                                              \n",
       "                                                                              \n",
       "\n",
       "                                                                              \n",
       "                                                                              \n",
       "                                                                              \n",
       "                                                                              \n",
       "                                                                              \n",
       "                                                                0             \n",
       "                                                                              \n",
       "                                                                              \n",
       "                                                                              \n",
       "                                                                              \n",
       "                                                                              \n",
       "                                                                0             \n",
       "                                                                              \n",
       "                                                                              \n",
       "                                                                              \n",
       "              2⎞                                                              \n",
       "    ⎛d       ⎞ ⎟    2                                                         \n",
       "+ 2⋅⎜──(a(t))⎟ ⎟⋅sin (φ)                                        0             \n",
       "    ⎝dt      ⎠ ⎟                                                              \n",
       "               ⎠                                                              \n",
       "                                                                              \n",
       "                                   ⎛       2                   2⎞      ⎛      \n",
       "                                 2 ⎜      d          ⎛d       ⎞ ⎟    2 ⎜      \n",
       "                          - 3.0⋅r ⋅⎜a(t)⋅───(a(t)) + ⎜──(a(t))⎟ ⎟ + r ⋅⎜a(t)⋅─\n",
       "                                   ⎜       2         ⎝dt      ⎠ ⎟      ⎜      \n",
       "                                   ⎝     dt                     ⎠      ⎝     d\n",
       "\n",
       "                         ⎤\n",
       "                         ⎥\n",
       "                         ⎥\n",
       "                         ⎥\n",
       "                         ⎥\n",
       "                         ⎥\n",
       "                         ⎥\n",
       "                         ⎥\n",
       "                         ⎥\n",
       "                         ⎥\n",
       "                         ⎥\n",
       "                         ⎥\n",
       "                         ⎥\n",
       "                         ⎥\n",
       "                         ⎥\n",
       "                         ⎥\n",
       "                         ⎥\n",
       "                         ⎥\n",
       "                         ⎥\n",
       "                         ⎥\n",
       "                         ⎥\n",
       " 2                     2⎞⎥\n",
       "d            ⎛d       ⎞ ⎟⎥\n",
       "──(a(t)) + 2⋅⎜──(a(t))⎟ ⎟⎥\n",
       " 2           ⎝dt      ⎠ ⎟⎥\n",
       "t                       ⎠⎦"
      ]
     },
     "execution_count": 69,
     "metadata": {},
     "output_type": "execute_result"
    }
   ],
   "source": [
    "einst_24 = EinsteinTensor.from_metric(metric_24)\n",
    "einst_24.tensor()"
   ]
  },
  {
   "cell_type": "code",
   "execution_count": 70,
   "id": "b890e7f5-3088-4688-83c5-bc3b598a6058",
   "metadata": {},
   "outputs": [
    {
     "data": {
      "text/latex": [
       "$\\displaystyle G_{00} = \\frac{3.0 \\left(a{\\left(t \\right)} \\frac{d^{2}}{d t^{2}} a{\\left(t \\right)} + \\left(\\frac{d}{d t} a{\\left(t \\right)}\\right)^{2}\\right)}{a^{2}{\\left(t \\right)}} - \\frac{3 \\frac{d^{2}}{d t^{2}} a{\\left(t \\right)}}{a{\\left(t \\right)}}$"
      ],
      "text/plain": [
       "<IPython.core.display.Math object>"
      ]
     },
     "metadata": {},
     "output_type": "display_data"
    },
    {
     "data": {
      "text/latex": [
       "$\\displaystyle G_{11} = - 2.0 a{\\left(t \\right)} \\frac{d^{2}}{d t^{2}} a{\\left(t \\right)} - 1.0 \\left(\\frac{d}{d t} a{\\left(t \\right)}\\right)^{2}$"
      ],
      "text/plain": [
       "<IPython.core.display.Math object>"
      ]
     },
     "metadata": {},
     "output_type": "display_data"
    },
    {
     "data": {
      "text/latex": [
       "$\\displaystyle G_{22} = - 3.0 r^{2} \\left(a{\\left(t \\right)} \\frac{d^{2}}{d t^{2}} a{\\left(t \\right)} + \\left(\\frac{d}{d t} a{\\left(t \\right)}\\right)^{2}\\right) \\sin^{2}{\\left(\\phi \\right)} + r^{2} \\left(a{\\left(t \\right)} \\frac{d^{2}}{d t^{2}} a{\\left(t \\right)} + 2 \\left(\\frac{d}{d t} a{\\left(t \\right)}\\right)^{2}\\right) \\sin^{2}{\\left(\\phi \\right)}$"
      ],
      "text/plain": [
       "<IPython.core.display.Math object>"
      ]
     },
     "metadata": {},
     "output_type": "display_data"
    },
    {
     "data": {
      "text/latex": [
       "$\\displaystyle G_{33} = - 3.0 r^{2} \\left(a{\\left(t \\right)} \\frac{d^{2}}{d t^{2}} a{\\left(t \\right)} + \\left(\\frac{d}{d t} a{\\left(t \\right)}\\right)^{2}\\right) + r^{2} \\left(a{\\left(t \\right)} \\frac{d^{2}}{d t^{2}} a{\\left(t \\right)} + 2 \\left(\\frac{d}{d t} a{\\left(t \\right)}\\right)^{2}\\right)$"
      ],
      "text/plain": [
       "<IPython.core.display.Math object>"
      ]
     },
     "metadata": {},
     "output_type": "display_data"
    }
   ],
   "source": [
    "for i, j in product(range(4), range(4)):\n",
    "    if einst_24[i, j] != 0:\n",
    "        display(Math(f'G_{{{i}{j}}} = ' + latex(einst_24[i, j])))"
   ]
  },
  {
   "cell_type": "markdown",
   "id": "7b89ee7c",
   "metadata": {},
   "source": [
    "# Stress Energy Momentum Tensor ($T_{\\mu\\nu}$)"
   ]
  },
  {
   "cell_type": "code",
   "execution_count": 71,
   "id": "6f335d75",
   "metadata": {},
   "outputs": [
    {
     "data": {
      "text/latex": [
       "$\\displaystyle \\left[\\begin{matrix}\\frac{0.0397887357729738 c^{4} \\left(\\Lambda + \\frac{3.0 \\left(a{\\left(t \\right)} \\frac{d^{2}}{d t^{2}} a{\\left(t \\right)} + \\left(\\frac{d}{d t} a{\\left(t \\right)}\\right)^{2}\\right)}{a^{2}{\\left(t \\right)}} - \\frac{3 \\frac{d^{2}}{d t^{2}} a{\\left(t \\right)}}{a{\\left(t \\right)}}\\right)}{G} & 0 & 0 & 0\\\\0 & \\frac{0.0397887357729738 c^{4} \\left(- \\Lambda a^{2}{\\left(t \\right)} - 2.0 a{\\left(t \\right)} \\frac{d^{2}}{d t^{2}} a{\\left(t \\right)} - 1.0 \\left(\\frac{d}{d t} a{\\left(t \\right)}\\right)^{2}\\right)}{G} & 0 & 0\\\\0 & 0 & \\frac{0.0397887357729738 c^{4} \\left(- r^{2} \\Lambda a^{2}{\\left(t \\right)} \\sin^{2}{\\left(\\phi \\right)} - 3.0 r^{2} \\left(a{\\left(t \\right)} \\frac{d^{2}}{d t^{2}} a{\\left(t \\right)} + \\left(\\frac{d}{d t} a{\\left(t \\right)}\\right)^{2}\\right) \\sin^{2}{\\left(\\phi \\right)} + r^{2} \\left(a{\\left(t \\right)} \\frac{d^{2}}{d t^{2}} a{\\left(t \\right)} + 2 \\left(\\frac{d}{d t} a{\\left(t \\right)}\\right)^{2}\\right) \\sin^{2}{\\left(\\phi \\right)}\\right)}{G} & 0\\\\0 & 0 & 0 & \\frac{0.0397887357729738 c^{4} \\left(- r^{2} \\Lambda a^{2}{\\left(t \\right)} - 3.0 r^{2} \\left(a{\\left(t \\right)} \\frac{d^{2}}{d t^{2}} a{\\left(t \\right)} + \\left(\\frac{d}{d t} a{\\left(t \\right)}\\right)^{2}\\right) + r^{2} \\left(a{\\left(t \\right)} \\frac{d^{2}}{d t^{2}} a{\\left(t \\right)} + 2 \\left(\\frac{d}{d t} a{\\left(t \\right)}\\right)^{2}\\right)\\right)}{G}\\end{matrix}\\right]$"
      ],
      "text/plain": [
       "⎡                      ⎛        ⎛       2                   2⎞       2      ⎞ \n",
       "⎢                      ⎜        ⎜      d          ⎛d       ⎞ ⎟      d       ⎟ \n",
       "⎢                      ⎜    3.0⋅⎜a(t)⋅───(a(t)) + ⎜──(a(t))⎟ ⎟   3⋅───(a(t))⎟ \n",
       "⎢                      ⎜        ⎜       2         ⎝dt      ⎠ ⎟       2      ⎟ \n",
       "⎢                    4 ⎜        ⎝     dt                     ⎠     dt       ⎟ \n",
       "⎢0.0397887357729738⋅c ⋅⎜Λ + ────────────────────────────────── - ───────────⎟ \n",
       "⎢                      ⎜                   2                         a(t)   ⎟ \n",
       "⎢                      ⎝                  a (t)                             ⎠ \n",
       "⎢──────────────────────────────────────────────────────────────────────────── \n",
       "⎢                                     G                                       \n",
       "⎢                                                                             \n",
       "⎢                                                                             \n",
       "⎢                                                                             \n",
       "⎢                                                                             \n",
       "⎢                                                                             \n",
       "⎢                                                                             \n",
       "⎢                                     0                                       \n",
       "⎢                                                                             \n",
       "⎢                                                                             \n",
       "⎢                                                                             \n",
       "⎢                                                                             \n",
       "⎢                                                                             \n",
       "⎢                                                                             \n",
       "⎢                                                                             \n",
       "⎢                                     0                                       \n",
       "⎢                                                                             \n",
       "⎢                                                                             \n",
       "⎢                                                                             \n",
       "⎢                                                                             \n",
       "⎢                                                                             \n",
       "⎢                                                                             \n",
       "⎢                                                                             \n",
       "⎢                                     0                                       \n",
       "⎣                                                                             \n",
       "\n",
       "                                                                              \n",
       "                                                                              \n",
       "                                                                              \n",
       "                                                                              \n",
       "                                                                              \n",
       "                                                                              \n",
       "                                                                              \n",
       "                                                                              \n",
       "                                  0                                           \n",
       "                                                                              \n",
       "                                                                              \n",
       "                       ⎛                       2                   2⎞         \n",
       "                     4 ⎜     2                d          ⎛d       ⎞ ⎟         \n",
       " 0.0397887357729738⋅c ⋅⎜- Λ⋅a (t) - 2.0⋅a(t)⋅───(a(t)) - ⎜──(a(t))⎟ ⎟         \n",
       "                       ⎜                       2         ⎝dt      ⎠ ⎟         \n",
       "                       ⎝                     dt                     ⎠         \n",
       " ────────────────────────────────────────────────────────────────────         \n",
       "                                  G                                           \n",
       "                                                                              \n",
       "                                                                              \n",
       "                                                                              \n",
       "                                                                       0.03978\n",
       "                                                                              \n",
       "                                                                              \n",
       "                                  0                                    ───────\n",
       "                                                                              \n",
       "                                                                              \n",
       "                                                                              \n",
       "                                                                              \n",
       "                                                                              \n",
       "                                                                              \n",
       "                                                                              \n",
       "                                  0                                           \n",
       "                                                                              \n",
       "\n",
       "                                                                              \n",
       "                                                                              \n",
       "                                                                              \n",
       "                                                                              \n",
       "                                                                              \n",
       "                                                                              \n",
       "                                                                              \n",
       "                                                                              \n",
       "                                                             0                \n",
       "                                                                              \n",
       "                                                                              \n",
       "                                                                              \n",
       "                                                                              \n",
       "                                                                              \n",
       "                                                                              \n",
       "                                                                              \n",
       "                                                             0                \n",
       "                                                                              \n",
       "                                                                              \n",
       "               ⎛                              ⎛       2                   2⎞  \n",
       "             4 ⎜   2    2       2           2 ⎜      d          ⎛d       ⎞ ⎟  \n",
       "87357729738⋅c ⋅⎜- r ⋅Λ⋅a (t)⋅sin (φ) - 3.0⋅r ⋅⎜a(t)⋅───(a(t)) + ⎜──(a(t))⎟ ⎟⋅s\n",
       "               ⎜                              ⎜       2         ⎝dt      ⎠ ⎟  \n",
       "               ⎝                              ⎝     dt                     ⎠  \n",
       "──────────────────────────────────────────────────────────────────────────────\n",
       "                                                             G                \n",
       "                                                                              \n",
       "                                                                              \n",
       "                                                                              \n",
       "                                                                              \n",
       "                                                                              \n",
       "                                                                              \n",
       "                                                             0                \n",
       "                                                                              \n",
       "\n",
       "                                                                              \n",
       "                                                                              \n",
       "                                                                              \n",
       "                                                                              \n",
       "                                                                              \n",
       "                                                                              \n",
       "                                                                              \n",
       "                                                                              \n",
       "                                                                              \n",
       "                                                                              \n",
       "                                                                              \n",
       "                                                                              \n",
       "                                                                              \n",
       "                                                                              \n",
       "                                                                              \n",
       "                                                                              \n",
       "                                                                              \n",
       "                                                                              \n",
       "                                                                              \n",
       "            ⎛       2                     2⎞        ⎞                         \n",
       "  2       2 ⎜      d            ⎛d       ⎞ ⎟    2   ⎟                         \n",
       "in (φ) + r ⋅⎜a(t)⋅───(a(t)) + 2⋅⎜──(a(t))⎟ ⎟⋅sin (φ)⎟                         \n",
       "            ⎜       2           ⎝dt      ⎠ ⎟        ⎟                         \n",
       "            ⎝     dt                       ⎠        ⎠                         \n",
       "─────────────────────────────────────────────────────                         \n",
       "                                                                              \n",
       "                                                                              \n",
       "                                                                             ⎛\n",
       "                                                                           4 ⎜\n",
       "                                                       0.0397887357729738⋅c ⋅⎜\n",
       "                                                                             ⎜\n",
       "                                                                             ⎝\n",
       "                                                       ───────────────────────\n",
       "                                                                              \n",
       "\n",
       "                                                                              \n",
       "                                                                              \n",
       "                                                                              \n",
       "                                                                              \n",
       "                                                                              \n",
       "                                                                              \n",
       "                                                                              \n",
       "                                                                              \n",
       "                                 0                                            \n",
       "                                                                              \n",
       "                                                                              \n",
       "                                                                              \n",
       "                                                                              \n",
       "                                                                              \n",
       "                                                                              \n",
       "                                                                              \n",
       "                                 0                                            \n",
       "                                                                              \n",
       "                                                                              \n",
       "                                                                              \n",
       "                                                                              \n",
       "                                                                              \n",
       "                                                                              \n",
       "                                                                              \n",
       "                                 0                                            \n",
       "                                                                              \n",
       "                                                                              \n",
       "                      ⎛       2                   2⎞      ⎛       2           \n",
       "   2    2           2 ⎜      d          ⎛d       ⎞ ⎟    2 ⎜      d            \n",
       "- r ⋅Λ⋅a (t) - 3.0⋅r ⋅⎜a(t)⋅───(a(t)) + ⎜──(a(t))⎟ ⎟ + r ⋅⎜a(t)⋅───(a(t)) + 2⋅\n",
       "                      ⎜       2         ⎝dt      ⎠ ⎟      ⎜       2           \n",
       "                      ⎝     dt                     ⎠      ⎝     dt            \n",
       "──────────────────────────────────────────────────────────────────────────────\n",
       "                                 G                                            \n",
       "\n",
       "             ⎤\n",
       "             ⎥\n",
       "             ⎥\n",
       "             ⎥\n",
       "             ⎥\n",
       "             ⎥\n",
       "             ⎥\n",
       "             ⎥\n",
       "             ⎥\n",
       "             ⎥\n",
       "             ⎥\n",
       "             ⎥\n",
       "             ⎥\n",
       "             ⎥\n",
       "             ⎥\n",
       "             ⎥\n",
       "             ⎥\n",
       "             ⎥\n",
       "             ⎥\n",
       "             ⎥\n",
       "             ⎥\n",
       "             ⎥\n",
       "             ⎥\n",
       "             ⎥\n",
       "             ⎥\n",
       "             ⎥\n",
       "             ⎥\n",
       "          2⎞⎞⎥\n",
       "⎛d       ⎞ ⎟⎟⎥\n",
       "⎜──(a(t))⎟ ⎟⎟⎥\n",
       "⎝dt      ⎠ ⎟⎟⎥\n",
       "           ⎠⎠⎥\n",
       "─────────────⎥\n",
       "             ⎦"
      ]
     },
     "execution_count": 71,
     "metadata": {},
     "output_type": "execute_result"
    }
   ],
   "source": [
    "T_24 = StressEnergyMomentumTensor.from_metric(metric_24)\n",
    "T_24.tensor()"
   ]
  },
  {
   "cell_type": "code",
   "execution_count": 72,
   "id": "ad392b3b-0edd-45ac-8978-f0c6d19e1a6b",
   "metadata": {},
   "outputs": [
    {
     "data": {
      "text/latex": [
       "$\\displaystyle T_{00} = \\frac{0.0397887357729738 c^{4} \\left(\\Lambda + \\frac{3.0 \\left(a{\\left(t \\right)} \\frac{d^{2}}{d t^{2}} a{\\left(t \\right)} + \\left(\\frac{d}{d t} a{\\left(t \\right)}\\right)^{2}\\right)}{a^{2}{\\left(t \\right)}} - \\frac{3 \\frac{d^{2}}{d t^{2}} a{\\left(t \\right)}}{a{\\left(t \\right)}}\\right)}{G}$"
      ],
      "text/plain": [
       "<IPython.core.display.Math object>"
      ]
     },
     "metadata": {},
     "output_type": "display_data"
    },
    {
     "data": {
      "text/latex": [
       "$\\displaystyle T_{11} = \\frac{0.0397887357729738 c^{4} \\left(- \\Lambda a^{2}{\\left(t \\right)} - 2.0 a{\\left(t \\right)} \\frac{d^{2}}{d t^{2}} a{\\left(t \\right)} - 1.0 \\left(\\frac{d}{d t} a{\\left(t \\right)}\\right)^{2}\\right)}{G}$"
      ],
      "text/plain": [
       "<IPython.core.display.Math object>"
      ]
     },
     "metadata": {},
     "output_type": "display_data"
    },
    {
     "data": {
      "text/latex": [
       "$\\displaystyle T_{22} = \\frac{0.0397887357729738 c^{4} \\left(- r^{2} \\Lambda a^{2}{\\left(t \\right)} \\sin^{2}{\\left(\\phi \\right)} - 3.0 r^{2} \\left(a{\\left(t \\right)} \\frac{d^{2}}{d t^{2}} a{\\left(t \\right)} + \\left(\\frac{d}{d t} a{\\left(t \\right)}\\right)^{2}\\right) \\sin^{2}{\\left(\\phi \\right)} + r^{2} \\left(a{\\left(t \\right)} \\frac{d^{2}}{d t^{2}} a{\\left(t \\right)} + 2 \\left(\\frac{d}{d t} a{\\left(t \\right)}\\right)^{2}\\right) \\sin^{2}{\\left(\\phi \\right)}\\right)}{G}$"
      ],
      "text/plain": [
       "<IPython.core.display.Math object>"
      ]
     },
     "metadata": {},
     "output_type": "display_data"
    },
    {
     "data": {
      "text/latex": [
       "$\\displaystyle T_{33} = \\frac{0.0397887357729738 c^{4} \\left(- r^{2} \\Lambda a^{2}{\\left(t \\right)} - 3.0 r^{2} \\left(a{\\left(t \\right)} \\frac{d^{2}}{d t^{2}} a{\\left(t \\right)} + \\left(\\frac{d}{d t} a{\\left(t \\right)}\\right)^{2}\\right) + r^{2} \\left(a{\\left(t \\right)} \\frac{d^{2}}{d t^{2}} a{\\left(t \\right)} + 2 \\left(\\frac{d}{d t} a{\\left(t \\right)}\\right)^{2}\\right)\\right)}{G}$"
      ],
      "text/plain": [
       "<IPython.core.display.Math object>"
      ]
     },
     "metadata": {},
     "output_type": "display_data"
    }
   ],
   "source": [
    "for i, j in product(range(4), range(4)):\n",
    "    if T_24[i, j] != 0:\n",
    "        display(Math(f'T_{{{i}{j}}} = ' + latex(T_24[i, j])))"
   ]
  },
  {
   "cell_type": "markdown",
   "id": "ccddf473",
   "metadata": {},
   "source": [
    "# Let's try to get EFE"
   ]
  },
  {
   "cell_type": "code",
   "execution_count": null,
   "id": "a9501197",
   "metadata": {},
   "outputs": [],
   "source": []
  }
 ],
 "metadata": {
  "kernelspec": {
   "display_name": "Python 3",
   "language": "python",
   "name": "python3"
  },
  "language_info": {
   "codemirror_mode": {
    "name": "ipython",
    "version": 3
   },
   "file_extension": ".py",
   "mimetype": "text/x-python",
   "name": "python",
   "nbconvert_exporter": "python",
   "pygments_lexer": "ipython3",
   "version": "3.8.8"
  }
 },
 "nbformat": 4,
 "nbformat_minor": 5
}
