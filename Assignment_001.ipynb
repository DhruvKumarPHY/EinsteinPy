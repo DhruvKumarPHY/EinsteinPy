{
 "cells": [
  {
   "cell_type": "code",
   "execution_count": 14,
   "id": "8ae93d79",
   "metadata": {},
   "outputs": [
    {
     "name": "stdout",
     "output_type": "stream",
     "text": [
      "Hello General Realativity\n"
     ]
    }
   ],
   "source": [
    "print(\"Hello General Realativity\")"
   ]
  },
  {
   "cell_type": "code",
   "execution_count": 15,
   "id": "3c354a73",
   "metadata": {},
   "outputs": [],
   "source": [
    "import einsteinpy as ep\n",
    "import sympy as smp\n",
    "smp.init_printing()  # enables the best printing available in an environment"
   ]
  },
  {
   "cell_type": "code",
   "execution_count": 16,
   "id": "bb27fbd1",
   "metadata": {},
   "outputs": [],
   "source": [
    "from einsteinpy.symbolic import MetricTensor, ChristoffelSymbols, RiemannCurvatureTensor"
   ]
  },
  {
   "cell_type": "markdown",
   "id": "99010f7f",
   "metadata": {},
   "source": [
    "# #1\n",
    "$g_{\\mu\\nu}$"
   ]
  },
  {
   "cell_type": "code",
   "execution_count": 17,
   "id": "5d8f533b",
   "metadata": {},
   "outputs": [
    {
     "data": {
      "text/latex": [
       "$\\displaystyle \\left[\\begin{matrix}1 & 0 & 0\\\\0 & R^{2} \\sin^{2}{\\left(\\theta \\right)} & 0\\\\0 & 0 & R^{2}\\end{matrix}\\right]$"
      ],
      "text/plain": [
       "⎡1      0       0 ⎤\n",
       "⎢                 ⎥\n",
       "⎢    2    2       ⎥\n",
       "⎢0  R ⋅sin (θ)  0 ⎥\n",
       "⎢                 ⎥\n",
       "⎢                2⎥\n",
       "⎣0      0       R ⎦"
      ]
     },
     "execution_count": 17,
     "metadata": {},
     "output_type": "execute_result"
    }
   ],
   "source": [
    "# Defining the metric tensor for 3d spherical coordinates\n",
    "syms = smp.symbols('R theta phi')\n",
    "# define the metric for 3d spherical coordinates\n",
    "metric = [[0 for i in range(3)] for i in range(3)]\n",
    "metric[0][0] = 1\n",
    "metric[1][1] = (syms[0]**2)*(smp.sin(syms[1])**2)\n",
    "metric[2][2] = syms[0]**2\n",
    "# creating metric object\n",
    "m_obj = MetricTensor(metric, syms)\n",
    "m_obj.tensor()"
   ]
  },
  {
   "cell_type": "code",
   "execution_count": 18,
   "id": "08a6db8a",
   "metadata": {},
   "outputs": [
    {
     "data": {
      "text/latex": [
       "$\\displaystyle \\left[\\begin{matrix}\\left[\\begin{matrix}0 & 0 & 0\\\\0 & - R \\sin^{2}{\\left(\\theta \\right)} & 0\\\\0 & 0 & - R\\end{matrix}\\right] & \\left[\\begin{matrix}0 & \\frac{1}{R} & 0\\\\\\frac{1}{R} & \\frac{\\cos{\\left(\\theta \\right)}}{\\sin{\\left(\\theta \\right)}} & 0\\\\0 & 0 & 0\\end{matrix}\\right] & \\left[\\begin{matrix}0 & 0 & \\frac{1}{R}\\\\0 & 0 & 0\\\\\\frac{1}{R} & 0 & 0\\end{matrix}\\right]\\end{matrix}\\right]$"
      ],
      "text/plain": [
       "⎡                     ⎡     1      ⎤  ⎡      1⎤⎤\n",
       "⎢⎡0      0       0 ⎤  ⎢0    ─     0⎥  ⎢0  0  ─⎥⎥\n",
       "⎢⎢                 ⎥  ⎢     R      ⎥  ⎢      R⎥⎥\n",
       "⎢⎢         2       ⎥  ⎢            ⎥  ⎢       ⎥⎥\n",
       "⎢⎢0  -R⋅sin (θ)  0 ⎥  ⎢1  cos(θ)   ⎥  ⎢0  0  0⎥⎥\n",
       "⎢⎢                 ⎥  ⎢─  ──────  0⎥  ⎢       ⎥⎥\n",
       "⎢⎣0      0       -R⎦  ⎢R  sin(θ)   ⎥  ⎢1      ⎥⎥\n",
       "⎢                     ⎢            ⎥  ⎢─  0  0⎥⎥\n",
       "⎣                     ⎣0    0     0⎦  ⎣R      ⎦⎦"
      ]
     },
     "execution_count": 18,
     "metadata": {},
     "output_type": "execute_result"
    }
   ],
   "source": [
    "ch = ChristoffelSymbols.from_metric(m_obj)\n",
    "ch.tensor()"
   ]
  },
  {
   "cell_type": "code",
   "execution_count": 19,
   "id": "8657382f",
   "metadata": {},
   "outputs": [
    {
     "data": {
      "image/png": "[encoded data removed]",
      "text/latex": [
       "$\\displaystyle 0$"
      ],
      "text/plain": [
       "0"
      ]
     },
     "execution_count": 19,
     "metadata": {},
     "output_type": "execute_result"
    }
   ],
   "source": [
    "ch.tensor()[1,2,2] # we can access the individual as"
   ]
  },
  {
   "cell_type": "code",
   "execution_count": 20,
   "id": "2d8e11dd",
   "metadata": {},
   "outputs": [
    {
     "data": {
      "text/latex": [
       "$\\displaystyle \\left[\\begin{matrix}\\left[\\begin{matrix}0 & 0 & 0\\\\0 & 0 & 0\\\\0 & 0 & 0\\end{matrix}\\right] & \\left[\\begin{matrix}0 & 0 & 0\\\\0 & 0 & 0\\\\0 & 0 & 0\\end{matrix}\\right] & \\left[\\begin{matrix}0 & 0 & 0\\\\0 & 0 & 0\\\\0 & 0 & 0\\end{matrix}\\right]\\\\\\left[\\begin{matrix}0 & 0 & 0\\\\0 & 0 & 0\\\\0 & 0 & 0\\end{matrix}\\right] & \\left[\\begin{matrix}0 & 0 & 0\\\\0 & 0 & 0\\\\0 & 0 & 0\\end{matrix}\\right] & \\left[\\begin{matrix}0 & 0 & 0\\\\0 & 0 & -1\\\\0 & 1 & 0\\end{matrix}\\right]\\\\\\left[\\begin{matrix}0 & 0 & 0\\\\0 & 0 & 0\\\\0 & 0 & 0\\end{matrix}\\right] & \\left[\\begin{matrix}0 & 0 & 0\\\\0 & 0 & \\sin^{2}{\\left(\\theta \\right)}\\\\0 & - \\sin^{2}{\\left(\\theta \\right)} & 0\\end{matrix}\\right] & \\left[\\begin{matrix}0 & 0 & 0\\\\0 & 0 & 0\\\\0 & 0 & 0\\end{matrix}\\right]\\end{matrix}\\right]$"
      ],
      "text/plain": [
       "⎡⎡0  0  0⎤        ⎡0  0  0⎤         ⎡0  0  0⎤ ⎤\n",
       "⎢⎢       ⎥        ⎢       ⎥         ⎢       ⎥ ⎥\n",
       "⎢⎢0  0  0⎥        ⎢0  0  0⎥         ⎢0  0  0⎥ ⎥\n",
       "⎢⎢       ⎥        ⎢       ⎥         ⎢       ⎥ ⎥\n",
       "⎢⎣0  0  0⎦        ⎣0  0  0⎦         ⎣0  0  0⎦ ⎥\n",
       "⎢                                             ⎥\n",
       "⎢⎡0  0  0⎤        ⎡0  0  0⎤         ⎡0  0  0 ⎤⎥\n",
       "⎢⎢       ⎥        ⎢       ⎥         ⎢        ⎥⎥\n",
       "⎢⎢0  0  0⎥        ⎢0  0  0⎥         ⎢0  0  -1⎥⎥\n",
       "⎢⎢       ⎥        ⎢       ⎥         ⎢        ⎥⎥\n",
       "⎢⎣0  0  0⎦        ⎣0  0  0⎦         ⎣0  1  0 ⎦⎥\n",
       "⎢                                             ⎥\n",
       "⎢           ⎡0     0         0   ⎤            ⎥\n",
       "⎢⎡0  0  0⎤  ⎢                    ⎥  ⎡0  0  0⎤ ⎥\n",
       "⎢⎢       ⎥  ⎢                2   ⎥  ⎢       ⎥ ⎥\n",
       "⎢⎢0  0  0⎥  ⎢0     0      sin (θ)⎥  ⎢0  0  0⎥ ⎥\n",
       "⎢⎢       ⎥  ⎢                    ⎥  ⎢       ⎥ ⎥\n",
       "⎢⎣0  0  0⎦  ⎢       2            ⎥  ⎣0  0  0⎦ ⎥\n",
       "⎣           ⎣0  -sin (θ)     0   ⎦            ⎦"
      ]
     },
     "execution_count": 20,
     "metadata": {},
     "output_type": "execute_result"
    }
   ],
   "source": [
    "# Calculating Riemann Tensor from Christoffel Symbols\n",
    "rm1 = RiemannCurvatureTensor.from_christoffels(ch)\n",
    "rm1.tensor()"
   ]
  },
  {
   "cell_type": "code",
   "execution_count": 21,
   "id": "50c445ee",
   "metadata": {},
   "outputs": [
    {
     "data": {
      "text/latex": [
       "$\\displaystyle \\left[\\begin{matrix}\\left[\\begin{matrix}0 & 0 & 0\\\\0 & 0 & 0\\\\0 & 0 & 0\\end{matrix}\\right] & \\left[\\begin{matrix}0 & 0 & 0\\\\0 & 0 & 0\\\\0 & 0 & 0\\end{matrix}\\right] & \\left[\\begin{matrix}0 & 0 & 0\\\\0 & 0 & 0\\\\0 & 0 & 0\\end{matrix}\\right]\\\\\\left[\\begin{matrix}0 & 0 & 0\\\\0 & 0 & 0\\\\0 & 0 & 0\\end{matrix}\\right] & \\left[\\begin{matrix}0 & 0 & 0\\\\0 & 0 & 0\\\\0 & 0 & 0\\end{matrix}\\right] & \\left[\\begin{matrix}0 & 0 & 0\\\\0 & 0 & -1\\\\0 & 1 & 0\\end{matrix}\\right]\\\\\\left[\\begin{matrix}0 & 0 & 0\\\\0 & 0 & 0\\\\0 & 0 & 0\\end{matrix}\\right] & \\left[\\begin{matrix}0 & 0 & 0\\\\0 & 0 & \\sin^{2}{\\left(\\theta \\right)}\\\\0 & - \\sin^{2}{\\left(\\theta \\right)} & 0\\end{matrix}\\right] & \\left[\\begin{matrix}0 & 0 & 0\\\\0 & 0 & 0\\\\0 & 0 & 0\\end{matrix}\\right]\\end{matrix}\\right]$"
      ],
      "text/plain": [
       "⎡⎡0  0  0⎤        ⎡0  0  0⎤         ⎡0  0  0⎤ ⎤\n",
       "⎢⎢       ⎥        ⎢       ⎥         ⎢       ⎥ ⎥\n",
       "⎢⎢0  0  0⎥        ⎢0  0  0⎥         ⎢0  0  0⎥ ⎥\n",
       "⎢⎢       ⎥        ⎢       ⎥         ⎢       ⎥ ⎥\n",
       "⎢⎣0  0  0⎦        ⎣0  0  0⎦         ⎣0  0  0⎦ ⎥\n",
       "⎢                                             ⎥\n",
       "⎢⎡0  0  0⎤        ⎡0  0  0⎤         ⎡0  0  0 ⎤⎥\n",
       "⎢⎢       ⎥        ⎢       ⎥         ⎢        ⎥⎥\n",
       "⎢⎢0  0  0⎥        ⎢0  0  0⎥         ⎢0  0  -1⎥⎥\n",
       "⎢⎢       ⎥        ⎢       ⎥         ⎢        ⎥⎥\n",
       "⎢⎣0  0  0⎦        ⎣0  0  0⎦         ⎣0  1  0 ⎦⎥\n",
       "⎢                                             ⎥\n",
       "⎢           ⎡0     0         0   ⎤            ⎥\n",
       "⎢⎡0  0  0⎤  ⎢                    ⎥  ⎡0  0  0⎤ ⎥\n",
       "⎢⎢       ⎥  ⎢                2   ⎥  ⎢       ⎥ ⎥\n",
       "⎢⎢0  0  0⎥  ⎢0     0      sin (θ)⎥  ⎢0  0  0⎥ ⎥\n",
       "⎢⎢       ⎥  ⎢                    ⎥  ⎢       ⎥ ⎥\n",
       "⎢⎣0  0  0⎦  ⎢       2            ⎥  ⎣0  0  0⎦ ⎥\n",
       "⎣           ⎣0  -sin (θ)     0   ⎦            ⎦"
      ]
     },
     "execution_count": 21,
     "metadata": {},
     "output_type": "execute_result"
    }
   ],
   "source": [
    "# Calculating Riemann Tensor from Metric Tensor\n",
    "rm2 = RiemannCurvatureTensor.from_metric(m_obj)\n",
    "rm2.tensor()"
   ]
  },
  {
   "cell_type": "code",
   "execution_count": 29,
   "id": "ea8211bc-20ea-4a65-8088-b6bccbfc15a6",
   "metadata": {},
   "outputs": [
    {
     "data": {
      "text/latex": [
       "$\\displaystyle \\left[\\begin{matrix}-1 & 0 & 0 & 0\\\\0 & 1 & 0 & 0\\\\0 & 0 & R^{2} \\sin^{2}{\\left(\\theta \\right)} & 0\\\\0 & 0 & 0 & R^{2}\\end{matrix}\\right]$"
      ],
      "text/plain": [
       "⎡-1  0      0       0 ⎤\n",
       "⎢                     ⎥\n",
       "⎢0   1      0       0 ⎥\n",
       "⎢                     ⎥\n",
       "⎢        2    2       ⎥\n",
       "⎢0   0  R ⋅sin (θ)  0 ⎥\n",
       "⎢                     ⎥\n",
       "⎢                    2⎥\n",
       "⎣0   0      0       R ⎦"
      ]
     },
     "execution_count": 29,
     "metadata": {},
     "output_type": "execute_result"
    }
   ],
   "source": [
    "# Defining the metric tensor for 3d spherical coordinates\n",
    "syms = smp.symbols('t R theta phi')\n",
    "# define the metric for 3d spherical coordinates\n",
    "metric = [[0 for i in range(4)] for i in range(4)]\n",
    "metric[0][0] = -1\n",
    "metric[1][1] = 1\n",
    "metric[2][2] = (syms[1]**2)*(smp.sin(syms[2])**2)\n",
    "metric[3][3] = syms[1]**2\n",
    "# creating metric object\n",
    "m_obj = MetricTensor(metric, syms)\n",
    "m_obj.tensor()"
   ]
  },
  {
   "cell_type": "code",
   "execution_count": 30,
   "id": "77e8b806-8d00-4157-a0a8-f6b102d5c573",
   "metadata": {},
   "outputs": [
    {
     "data": {
      "text/latex": [
       "$\\displaystyle \\left[\\begin{matrix}\\left[\\begin{matrix}0 & 0 & 0 & 0\\\\0 & 0 & 0 & 0\\\\0 & 0 & 0 & 0\\\\0 & 0 & 0 & 0\\end{matrix}\\right] & \\left[\\begin{matrix}0 & 0 & 0 & 0\\\\0 & 0 & 0 & 0\\\\0 & 0 & - R \\sin^{2}{\\left(\\theta \\right)} & 0\\\\0 & 0 & 0 & - R\\end{matrix}\\right] & \\left[\\begin{matrix}0 & 0 & 0 & 0\\\\0 & 0 & \\frac{1}{R} & 0\\\\0 & \\frac{1}{R} & \\frac{\\cos{\\left(\\theta \\right)}}{\\sin{\\left(\\theta \\right)}} & 0\\\\0 & 0 & 0 & 0\\end{matrix}\\right] & \\left[\\begin{matrix}0 & 0 & 0 & 0\\\\0 & 0 & 0 & \\frac{1}{R}\\\\0 & 0 & 0 & 0\\\\0 & \\frac{1}{R} & 0 & 0\\end{matrix}\\right]\\end{matrix}\\right]$"
      ],
      "text/plain": [
       "⎡                                      ⎡0  0    0     0⎤  ⎡0  0  0  0⎤⎤\n",
       "⎢              ⎡0  0      0       0 ⎤  ⎢               ⎥  ⎢          ⎥⎥\n",
       "⎢⎡0  0  0  0⎤  ⎢                    ⎥  ⎢        1      ⎥  ⎢         1⎥⎥\n",
       "⎢⎢          ⎥  ⎢0  0      0       0 ⎥  ⎢0  0    ─     0⎥  ⎢0  0  0  ─⎥⎥\n",
       "⎢⎢0  0  0  0⎥  ⎢                    ⎥  ⎢        R      ⎥  ⎢         R⎥⎥\n",
       "⎢⎢          ⎥  ⎢            2       ⎥  ⎢               ⎥  ⎢          ⎥⎥\n",
       "⎢⎢0  0  0  0⎥  ⎢0  0  -R⋅sin (θ)  0 ⎥  ⎢   1  cos(θ)   ⎥  ⎢0  0  0  0⎥⎥\n",
       "⎢⎢          ⎥  ⎢                    ⎥  ⎢0  ─  ──────  0⎥  ⎢          ⎥⎥\n",
       "⎢⎣0  0  0  0⎦  ⎣0  0      0       -R⎦  ⎢   R  sin(θ)   ⎥  ⎢   1      ⎥⎥\n",
       "⎢                                      ⎢               ⎥  ⎢0  ─  0  0⎥⎥\n",
       "⎣                                      ⎣0  0    0     0⎦  ⎣   R      ⎦⎦"
      ]
     },
     "execution_count": 30,
     "metadata": {},
     "output_type": "execute_result"
    }
   ],
   "source": [
    "ch = ChristoffelSymbols.from_metric(m_obj)\n",
    "ch.tensor()"
   ]
  },
  {
   "cell_type": "markdown",
   "id": "6f6314f8",
   "metadata": {},
   "source": [
    "# #2"
   ]
  },
  {
   "cell_type": "code",
   "execution_count": 22,
   "id": "56719385",
   "metadata": {},
   "outputs": [
    {
     "data": {
      "text/latex": [
       "$\\displaystyle \\left[\\begin{matrix}a^{2}{\\left(t \\right)} & 0 & 0\\\\0 & r^{2} a^{2}{\\left(t \\right)} \\sin^{2}{\\left(\\theta \\right)} & 0\\\\0 & 0 & r^{2} a^{2}{\\left(t \\right)}\\end{matrix}\\right]$"
      ],
      "text/plain": [
       "⎡ 2                               ⎤\n",
       "⎢a (t)         0             0    ⎥\n",
       "⎢                                 ⎥\n",
       "⎢        2  2       2             ⎥\n",
       "⎢  0    r ⋅a (t)⋅sin (θ)     0    ⎥\n",
       "⎢                                 ⎥\n",
       "⎢                          2  2   ⎥\n",
       "⎣  0           0          r ⋅a (t)⎦"
      ]
     },
     "execution_count": 22,
     "metadata": {},
     "output_type": "execute_result"
    }
   ],
   "source": [
    "# Defining the metric tensor for 3d spherical coordinates\n",
    "syms = smp.symbols('r theta phi ')\n",
    "t = smp.symbols('t')\n",
    "a = smp.Function(\"a\")\n",
    "# define the metric for 3d spherical coordinates\n",
    "metric = [[0 for i in range(3)] for i in range(3)]\n",
    "metric[0][0] = a(t)**2\n",
    "metric[2][2] = syms[0]**2 *  a(t)**2\n",
    "metric[1][1] = (syms[0]**2)*(smp.sin(syms[1])**2) * a(t)**2\n",
    "# creating metric object\n",
    "m_obj = MetricTensor(metric, syms)\n",
    "m_obj.tensor()"
   ]
  },
  {
   "cell_type": "code",
   "execution_count": 23,
   "id": "ec2cdd39",
   "metadata": {},
   "outputs": [
    {
     "data": {
      "text/latex": [
       "$\\displaystyle \\left[\\begin{matrix}\\left[\\begin{matrix}0 & 0 & 0\\\\0 & - r \\sin^{2}{\\left(\\theta \\right)} & 0\\\\0 & 0 & - r\\end{matrix}\\right] & \\left[\\begin{matrix}0 & \\frac{1}{r} & 0\\\\\\frac{1}{r} & \\frac{\\cos{\\left(\\theta \\right)}}{\\sin{\\left(\\theta \\right)}} & 0\\\\0 & 0 & 0\\end{matrix}\\right] & \\left[\\begin{matrix}0 & 0 & \\frac{1}{r}\\\\0 & 0 & 0\\\\\\frac{1}{r} & 0 & 0\\end{matrix}\\right]\\end{matrix}\\right]$"
      ],
      "text/plain": [
       "⎡                     ⎡     1      ⎤  ⎡      1⎤⎤\n",
       "⎢⎡0      0       0 ⎤  ⎢0    ─     0⎥  ⎢0  0  ─⎥⎥\n",
       "⎢⎢                 ⎥  ⎢     r      ⎥  ⎢      r⎥⎥\n",
       "⎢⎢         2       ⎥  ⎢            ⎥  ⎢       ⎥⎥\n",
       "⎢⎢0  -r⋅sin (θ)  0 ⎥  ⎢1  cos(θ)   ⎥  ⎢0  0  0⎥⎥\n",
       "⎢⎢                 ⎥  ⎢─  ──────  0⎥  ⎢       ⎥⎥\n",
       "⎢⎣0      0       -r⎦  ⎢r  sin(θ)   ⎥  ⎢1      ⎥⎥\n",
       "⎢                     ⎢            ⎥  ⎢─  0  0⎥⎥\n",
       "⎣                     ⎣0    0     0⎦  ⎣r      ⎦⎦"
      ]
     },
     "execution_count": 23,
     "metadata": {},
     "output_type": "execute_result"
    }
   ],
   "source": [
    "ch = ChristoffelSymbols.from_metric(m_obj)\n",
    "ch.tensor()"
   ]
  },
  {
   "cell_type": "code",
   "execution_count": 24,
   "id": "21156a9d",
   "metadata": {},
   "outputs": [
    {
     "data": {
      "text/latex": [
       "$\\displaystyle \\left[\\begin{matrix}\\left[\\begin{matrix}0 & 0 & 0\\\\0 & 0 & 0\\\\0 & 0 & 0\\end{matrix}\\right] & \\left[\\begin{matrix}0 & 0 & 0\\\\0 & 0 & 0\\\\0 & 0 & 0\\end{matrix}\\right] & \\left[\\begin{matrix}0 & 0 & 0\\\\0 & 0 & 0\\\\0 & 0 & 0\\end{matrix}\\right]\\\\\\left[\\begin{matrix}0 & 0 & 0\\\\0 & 0 & 0\\\\0 & 0 & 0\\end{matrix}\\right] & \\left[\\begin{matrix}0 & 0 & 0\\\\0 & 0 & 0\\\\0 & 0 & 0\\end{matrix}\\right] & \\left[\\begin{matrix}0 & 0 & 0\\\\0 & 0 & -1\\\\0 & 1 & 0\\end{matrix}\\right]\\\\\\left[\\begin{matrix}0 & 0 & 0\\\\0 & 0 & 0\\\\0 & 0 & 0\\end{matrix}\\right] & \\left[\\begin{matrix}0 & 0 & 0\\\\0 & 0 & \\sin^{2}{\\left(\\theta \\right)}\\\\0 & - \\sin^{2}{\\left(\\theta \\right)} & 0\\end{matrix}\\right] & \\left[\\begin{matrix}0 & 0 & 0\\\\0 & 0 & 0\\\\0 & 0 & 0\\end{matrix}\\right]\\end{matrix}\\right]$"
      ],
      "text/plain": [
       "⎡⎡0  0  0⎤        ⎡0  0  0⎤         ⎡0  0  0⎤ ⎤\n",
       "⎢⎢       ⎥        ⎢       ⎥         ⎢       ⎥ ⎥\n",
       "⎢⎢0  0  0⎥        ⎢0  0  0⎥         ⎢0  0  0⎥ ⎥\n",
       "⎢⎢       ⎥        ⎢       ⎥         ⎢       ⎥ ⎥\n",
       "⎢⎣0  0  0⎦        ⎣0  0  0⎦         ⎣0  0  0⎦ ⎥\n",
       "⎢                                             ⎥\n",
       "⎢⎡0  0  0⎤        ⎡0  0  0⎤         ⎡0  0  0 ⎤⎥\n",
       "⎢⎢       ⎥        ⎢       ⎥         ⎢        ⎥⎥\n",
       "⎢⎢0  0  0⎥        ⎢0  0  0⎥         ⎢0  0  -1⎥⎥\n",
       "⎢⎢       ⎥        ⎢       ⎥         ⎢        ⎥⎥\n",
       "⎢⎣0  0  0⎦        ⎣0  0  0⎦         ⎣0  1  0 ⎦⎥\n",
       "⎢                                             ⎥\n",
       "⎢           ⎡0     0         0   ⎤            ⎥\n",
       "⎢⎡0  0  0⎤  ⎢                    ⎥  ⎡0  0  0⎤ ⎥\n",
       "⎢⎢       ⎥  ⎢                2   ⎥  ⎢       ⎥ ⎥\n",
       "⎢⎢0  0  0⎥  ⎢0     0      sin (θ)⎥  ⎢0  0  0⎥ ⎥\n",
       "⎢⎢       ⎥  ⎢                    ⎥  ⎢       ⎥ ⎥\n",
       "⎢⎣0  0  0⎦  ⎢       2            ⎥  ⎣0  0  0⎦ ⎥\n",
       "⎣           ⎣0  -sin (θ)     0   ⎦            ⎦"
      ]
     },
     "execution_count": 24,
     "metadata": {},
     "output_type": "execute_result"
    }
   ],
   "source": [
    "# Calculating Riemann Tensor from Christoffel Symbols\n",
    "rm1 = RiemannCurvatureTensor.from_christoffels(ch)\n",
    "rm1.tensor()"
   ]
  },
  {
   "cell_type": "code",
   "execution_count": 31,
   "id": "faae797e",
   "metadata": {},
   "outputs": [
    {
     "data": {
      "text/latex": [
       "$\\displaystyle \\left[\\begin{matrix}-1 & 0 & 0 & 0\\\\0 & a^{2}{\\left(t \\right)} & 0 & 0\\\\0 & 0 & r^{2} a^{2}{\\left(t \\right)} \\sin^{2}{\\left(\\phi \\right)} & 0\\\\0 & 0 & 0 & r^{2} a^{2}{\\left(t \\right)}\\end{matrix}\\right]$"
      ],
      "text/plain": [
       "⎡-1    0           0             0    ⎤\n",
       "⎢                                     ⎥\n",
       "⎢     2                               ⎥\n",
       "⎢0   a (t)         0             0    ⎥\n",
       "⎢                                     ⎥\n",
       "⎢            2  2       2             ⎥\n",
       "⎢0     0    r ⋅a (t)⋅sin (φ)     0    ⎥\n",
       "⎢                                     ⎥\n",
       "⎢                              2  2   ⎥\n",
       "⎣0     0           0          r ⋅a (t)⎦"
      ]
     },
     "execution_count": 31,
     "metadata": {},
     "output_type": "execute_result"
    }
   ],
   "source": [
    "syms = smp.symbols(\"t r theta phi\")\n",
    "G, M, c = smp.symbols(\"G M c\")\n",
    "a = smp.Function(\"a\")\n",
    "# using metric values of schwarschild space-time\n",
    "# a is schwarzschild radius\n",
    "list2d = [[0 for i in range(4)] for i in range(4)]\n",
    "list2d[0][0] = -1 \n",
    "list2d[1][1] = a(t)**2\n",
    "list2d[2][2] = (syms[1]**2)*(smp.sin(syms[3])**2) * a(t)**2\n",
    "list2d[3][3] = (syms[1]**2) *  a(t)**2\n",
    "sch = MetricTensor(list2d, syms)\n",
    "sch.tensor()"
   ]
  },
  {
   "cell_type": "code",
   "execution_count": 32,
   "id": "3a684201",
   "metadata": {},
   "outputs": [
    {
     "data": {
      "text/latex": [
       "$\\displaystyle \\left[\\begin{matrix}\\left[\\begin{matrix}0 & 0 & 0 & 0\\\\0 & a{\\left(t \\right)} \\frac{d}{d t} a{\\left(t \\right)} & 0 & 0\\\\0 & 0 & r^{2} a{\\left(t \\right)} \\sin^{2}{\\left(\\phi \\right)} \\frac{d}{d t} a{\\left(t \\right)} & 0\\\\0 & 0 & 0 & r^{2} a{\\left(t \\right)} \\frac{d}{d t} a{\\left(t \\right)}\\end{matrix}\\right] & \\left[\\begin{matrix}0 & \\frac{\\frac{d}{d t} a{\\left(t \\right)}}{a{\\left(t \\right)}} & 0 & 0\\\\\\frac{\\frac{d}{d t} a{\\left(t \\right)}}{a{\\left(t \\right)}} & 0 & 0 & 0\\\\0 & 0 & - r \\sin^{2}{\\left(\\phi \\right)} & 0\\\\0 & 0 & 0 & - r\\end{matrix}\\right] & \\left[\\begin{matrix}0 & 0 & \\frac{\\frac{d}{d t} a{\\left(t \\right)}}{a{\\left(t \\right)}} & 0\\\\0 & 0 & \\frac{1}{r} & 0\\\\\\frac{\\frac{d}{d t} a{\\left(t \\right)}}{a{\\left(t \\right)}} & \\frac{1}{r} & 0 & \\frac{\\cos{\\left(\\phi \\right)}}{\\sin{\\left(\\phi \\right)}}\\\\0 & 0 & \\frac{\\cos{\\left(\\phi \\right)}}{\\sin{\\left(\\phi \\right)}} & 0\\end{matrix}\\right] & \\left[\\begin{matrix}0 & 0 & 0 & \\frac{\\frac{d}{d t} a{\\left(t \\right)}}{a{\\left(t \\right)}}\\\\0 & 0 & 0 & \\frac{1}{r}\\\\0 & 0 & - \\sin{\\left(\\phi \\right)} \\cos{\\left(\\phi \\right)} & 0\\\\\\frac{\\frac{d}{d t} a{\\left(t \\right)}}{a{\\left(t \\right)}} & \\frac{1}{r} & 0 & 0\\end{matrix}\\right]\\end{matrix}\\right]$"
      ],
      "text/plain": [
       "⎡                                                                             \n",
       "⎢                                                                ⎡          d \n",
       "⎢                                                                ⎢          ──\n",
       "⎢⎡0        0                   0                     0        ⎤  ⎢          dt\n",
       "⎢⎢                                                            ⎥  ⎢   0      ──\n",
       "⎢⎢        d                                                   ⎥  ⎢            \n",
       "⎢⎢0  a(t)⋅──(a(t))             0                     0        ⎥  ⎢            \n",
       "⎢⎢        dt                                                  ⎥  ⎢d           \n",
       "⎢⎢                                                            ⎥  ⎢──(a(t))    \n",
       "⎢⎢                   2         2    d                         ⎥  ⎢dt          \n",
       "⎢⎢0        0        r ⋅a(t)⋅sin (φ)⋅──(a(t))         0        ⎥  ⎢────────    \n",
       "⎢⎢                                  dt                        ⎥  ⎢  a(t)      \n",
       "⎢⎢                                                            ⎥  ⎢            \n",
       "⎢⎢                                             2      d       ⎥  ⎢            \n",
       "⎢⎢0        0                   0              r ⋅a(t)⋅──(a(t))⎥  ⎢   0        \n",
       "⎢⎣                                                    dt      ⎦  ⎢            \n",
       "⎢                                                                ⎣   0        \n",
       "⎢                                                                             \n",
       "⎣                                                                             \n",
       "\n",
       "                         ⎡             d               ⎤                      \n",
       "                      ⎤  ⎢             ──(a(t))        ⎥  ⎡                   \n",
       "(a(t))                ⎥  ⎢             dt              ⎥  ⎢                   \n",
       "                      ⎥  ⎢   0      0  ────────    0   ⎥  ⎢                   \n",
       "──────      0       0 ⎥  ⎢               a(t)          ⎥  ⎢   0      0        \n",
       "a(t)                  ⎥  ⎢                             ⎥  ⎢                   \n",
       "                      ⎥  ⎢                1            ⎥  ⎢                   \n",
       "                      ⎥  ⎢   0      0     ─        0   ⎥  ⎢                   \n",
       "                      ⎥  ⎢                r            ⎥  ⎢   0      0        \n",
       "                      ⎥  ⎢                             ⎥  ⎢                   \n",
       " 0          0       0 ⎥  ⎢d                            ⎥  ⎢                   \n",
       "                      ⎥  ⎢──(a(t))                     ⎥  ⎢   0      0  -sin(φ\n",
       "                      ⎥  ⎢dt        1            cos(φ)⎥  ⎢                   \n",
       "              2       ⎥  ⎢────────  ─     0      ──────⎥  ⎢d                  \n",
       " 0      -r⋅sin (φ)  0 ⎥  ⎢  a(t)    r            sin(φ)⎥  ⎢──(a(t))           \n",
       "                      ⎥  ⎢                             ⎥  ⎢dt        1        \n",
       " 0          0       -r⎦  ⎢              cos(φ)         ⎥  ⎢────────  ─        \n",
       "                         ⎢   0      0   ──────     0   ⎥  ⎣  a(t)    r        \n",
       "                         ⎣              sin(φ)         ⎦                      \n",
       "\n",
       "                   ⎤\n",
       "          d       ⎤⎥\n",
       "          ──(a(t))⎥⎥\n",
       "          dt      ⎥⎥\n",
       "0         ────────⎥⎥\n",
       "            a(t)  ⎥⎥\n",
       "                  ⎥⎥\n",
       "             1    ⎥⎥\n",
       "0            ─    ⎥⎥\n",
       "             r    ⎥⎥\n",
       "                  ⎥⎥\n",
       ")⋅cos(φ)     0    ⎥⎥\n",
       "                  ⎥⎥\n",
       "                  ⎥⎥\n",
       "                  ⎥⎥\n",
       "                  ⎥⎥\n",
       "0            0    ⎥⎥\n",
       "                  ⎦⎥\n",
       "                   ⎦"
      ]
     },
     "execution_count": 32,
     "metadata": {},
     "output_type": "execute_result"
    }
   ],
   "source": [
    "sch_ch = ChristoffelSymbols.from_metric(sch)\n",
    "sch_ch.tensor()"
   ]
  },
  {
   "cell_type": "code",
   "execution_count": null,
   "id": "4072bf14",
   "metadata": {},
   "outputs": [],
   "source": []
  }
 ],
 "metadata": {
  "kernelspec": {
   "display_name": "Python 3",
   "language": "python",
   "name": "python3"
  },
  "language_info": {
   "codemirror_mode": {
    "name": "ipython",
    "version": 3
   },
   "file_extension": ".py",
   "mimetype": "text/x-python",
   "name": "python",
   "nbconvert_exporter": "python",
   "pygments_lexer": "ipython3",
   "version": "3.8.8"
  }
 },
 "nbformat": 4,
 "nbformat_minor": 5
}
